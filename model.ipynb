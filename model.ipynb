{
  "cells": [
    {
      "cell_type": "markdown",
      "metadata": {
        "id": "aYB6TCxumWKL"
      },
      "source": [
        "# NY_crimes_process"
      ]
    },
    {
      "cell_type": "markdown",
      "metadata": {
        "id": "1ff-_4yUmWKQ"
      },
      "source": [
        "### Import numpy, pandas, matpltlib.pyplot"
      ]
    },
    {
      "cell_type": "code",
      "execution_count": 1,
      "metadata": {
        "id": "3yK6XVavmWKR"
      },
      "outputs": [],
      "source": [
        "# Import numpy, pandas, matpltlib.pyplot\n",
        "import numpy as np\n",
        "import pandas as pd\n",
        "import matplotlib.pyplot as plt\n",
        "import seaborn as sns\n",
        "\n",
        "%matplotlib inline\n",
        "pd.set_option('display.max_rows', 200)\n",
        "pd.set_option('display.max_columns', 200)\n",
        "plt.style.use('ggplot')"
      ]
    },
    {
      "cell_type": "code",
      "source": [
        "from google.colab import drive\n",
        "drive.mount('/content/drive')"
      ],
      "metadata": {
        "colab": {
          "base_uri": "https://localhost:8080/"
        },
        "id": "PvpQyZ-Omejz",
        "outputId": "9438c112-8c81-41f5-838b-5ccc4ab54ec4"
      },
      "execution_count": 2,
      "outputs": [
        {
          "output_type": "stream",
          "name": "stdout",
          "text": [
            "Mounted at /content/drive\n"
          ]
        }
      ]
    },
    {
      "cell_type": "markdown",
      "metadata": {
        "id": "HkBvhPWRmWKS"
      },
      "source": [
        "### Import the data"
      ]
    },
    {
      "cell_type": "code",
      "source": [
        "!unrar x \"/content/drive/MyDrive/data.rar\""
      ],
      "metadata": {
        "colab": {
          "base_uri": "https://localhost:8080/"
        },
        "id": "FS7L1fNrmjbi",
        "outputId": "63653eb8-77b4-40de-e116-6258dbaf7f6e"
      },
      "execution_count": 4,
      "outputs": [
        {
          "output_type": "stream",
          "name": "stdout",
          "text": [
            "\n",
            "UNRAR 5.50 freeware      Copyright (c) 1993-2017 Alexander Roshal\n",
            "\n",
            "\n",
            "Extracting from /content/drive/MyDrive/data.rar\n",
            "\n",
            "Extracting  NYPD_Complaint_Data_Historic.csv                             \b\b\b\b  0%\b\b\b\b  1%\b\b\b\b  2%\b\b\b\b  3%\b\b\b\b  4%\b\b\b\b  5%\b\b\b\b  6%\b\b\b\b  7%\b\b\b\b  8%\b\b\b\b  9%\b\b\b\b 10%\b\b\b\b 11%\b\b\b\b 12%\b\b\b\b 13%\b\b\b\b 14%\b\b\b\b 15%\b\b\b\b 16%\b\b\b\b 17%\b\b\b\b 18%\b\b\b\b 19%\b\b\b\b 20%\b\b\b\b 21%\b\b\b\b 22%\b\b\b\b 23%\b\b\b\b 24%\b\b\b\b 25%\b\b\b\b 26%\b\b\b\b 27%\b\b\b\b 28%\b\b\b\b 29%\b\b\b\b 30%\b\b\b\b 31%\b\b\b\b 32%\b\b\b\b 33%\b\b\b\b 34%\b\b\b\b 35%\b\b\b\b 36%\b\b\b\b 37%\b\b\b\b 38%\b\b\b\b 39%\b\b\b\b 40%\b\b\b\b 41%\b\b\b\b 42%\b\b\b\b 43%\b\b\b\b 44%\b\b\b\b 45%\b\b\b\b 46%\b\b\b\b 47%\b\b\b\b 48%\b\b\b\b 49%\b\b\b\b 50%\b\b\b\b 51%\b\b\b\b 52%\b\b\b\b 53%\b\b\b\b 54%\b\b\b\b 55%\b\b\b\b 56%\b\b\b\b 57%\b\b\b\b 58%\b\b\b\b 59%\b\b\b\b 60%\b\b\b\b 61%\b\b\b\b 62%\b\b\b\b 63%\b\b\b\b 64%\b\b\b\b 65%\b\b\b\b 66%\b\b\b\b 67%\b\b\b\b 68%\b\b\b\b 69%\b\b\b\b 70%\b\b\b\b 71%\b\b\b\b 72%\b\b\b\b 73%\b\b\b\b 74%\b\b\b\b 75%\b\b\b\b 76%\b\b\b\b 77%\b\b\b\b 78%\b\b\b\b 79%\b\b\b\b 80%\b\b\b\b 81%\b\b\b\b 82%\b\b\b\b 83%\b\b\b\b 84%\b\b\b\b 85%\b\b\b\b 86%\b\b\b\b 87%\b\b\b\b 88%\b\b\b\b 89%\b\b\b\b 90%\b\b\b\b 91%\b\b\b\b 92%\b\b\b\b 93%\b\b\b\b 94%\b\b\b\b 95%\b\b\b\b 96%\b\b\b\b 97%\b\b\b\b 98%\b\b\b\b 99%\b\b\b\b\b  OK \n",
            "All OK\n"
          ]
        }
      ]
    },
    {
      "cell_type": "code",
      "execution_count": 5,
      "metadata": {
        "colab": {
          "base_uri": "https://localhost:8080/",
          "height": 531
        },
        "id": "JQqsTJuTmWKT",
        "outputId": "f4d4261b-9f22-4346-ce6c-f4d9d71f5dec"
      },
      "outputs": [
        {
          "output_type": "stream",
          "name": "stderr",
          "text": [
            "/usr/local/lib/python3.8/dist-packages/IPython/core/interactiveshell.py:3326: DtypeWarning: Columns (18,20) have mixed types.Specify dtype option on import or set low_memory=False.\n",
            "  exec(code_obj, self.user_global_ns, self.user_ns)\n"
          ]
        },
        {
          "output_type": "execute_result",
          "data": {
            "text/plain": [
              "   CMPLNT_NUM CMPLNT_FR_DT CMPLNT_FR_TM CMPLNT_TO_DT CMPLNT_TO_TM  \\\n",
              "0   724718389   09/04/2014     17:25:00   09/04/2014     17:35:00   \n",
              "1   191133903   10/12/2016     07:40:00   10/12/2016     07:45:00   \n",
              "2   720151206   09/28/2012     13:30:00   09/28/2012     14:00:00   \n",
              "3   232242098   03/24/2015     15:45:00          NaN          NaN   \n",
              "4   708078702   05/20/2017     04:02:00   05/20/2017     04:09:00   \n",
              "\n",
              "   ADDR_PCT_CD      RPT_DT  KY_CD                     OFNS_DESC  PD_CD  \\\n",
              "0         81.0  09/04/2014    344  ASSAULT 3 & RELATED OFFENSES  101.0   \n",
              "1        121.0  10/12/2016    109                 GRAND LARCENY  417.0   \n",
              "2         41.0  10/19/2012    109                 GRAND LARCENY  413.0   \n",
              "3         46.0  03/24/2015    341                 PETIT LARCENY  339.0   \n",
              "4        109.0  05/20/2017    344  ASSAULT 3 & RELATED OFFENSES  101.0   \n",
              "\n",
              "                          PD_DESC CRM_ATPT_CPTD_CD   LAW_CAT_CD  \\\n",
              "0                       ASSAULT 3        COMPLETED  MISDEMEANOR   \n",
              "1  LARCENY,GRAND FROM PERSON,PURS        COMPLETED       FELONY   \n",
              "2  LARCENY,GRAND BY FALSE PROMISE        COMPLETED       FELONY   \n",
              "3  LARCENY,PETIT FROM OPEN AREAS,        COMPLETED  MISDEMEANOR   \n",
              "4                       ASSAULT 3        COMPLETED  MISDEMEANOR   \n",
              "\n",
              "         BORO_NM LOC_OF_OCCUR_DESC PREM_TYP_DESC        JURIS_DESC  \\\n",
              "0       BROOKLYN       OPPOSITE OF        STREET  N.Y. POLICE DEPT   \n",
              "1  STATEN ISLAND               NaN        STREET  N.Y. POLICE DEPT   \n",
              "2          BRONX          FRONT OF        STREET  N.Y. POLICE DEPT   \n",
              "3          BRONX          FRONT OF        STREET  N.Y. POLICE DEPT   \n",
              "4         QUEENS          FRONT OF        STREET  N.Y. POLICE DEPT   \n",
              "\n",
              "   JURISDICTION_CODE PARKS_NM HADEVELOPT HOUSING_PSA  X_COORD_CD  Y_COORD_CD  \\\n",
              "0                0.0      NaN        NaN         NaN   1005945.0    188862.0   \n",
              "1                0.0      NaN        NaN         NaN    947034.0    171375.0   \n",
              "2                0.0      NaN        NaN         NaN   1014179.0    239453.0   \n",
              "3                0.0      NaN        NaN         NaN   1009041.0    247401.0   \n",
              "4                0.0      NaN        NaN         NaN   1031779.0    217663.0   \n",
              "\n",
              "  SUSP_AGE_GROUP       SUSP_RACE SUSP_SEX  TRANSIT_DISTRICT   Latitude  \\\n",
              "0            NaN             NaN      NaN               NaN  40.685041   \n",
              "1        UNKNOWN           BLACK        U               NaN  40.636991   \n",
              "2            NaN  WHITE HISPANIC        M               NaN  40.823876   \n",
              "3            NaN           BLACK        M               NaN  40.845707   \n",
              "4          25-44  WHITE HISPANIC        M               NaN  40.763992   \n",
              "\n",
              "   Longitude                        Lat_Lon                PATROL_BORO  \\\n",
              "0 -73.921777  (40.685040958, -73.921776995)    PATROL BORO BKLYN NORTH   \n",
              "1 -74.134093   (40.63699139, -74.134092508)  PATROL BORO STATEN ISLAND   \n",
              "2 -73.891863  (40.823876276, -73.891862968)          PATROL BORO BRONX   \n",
              "3 -73.910398  (40.845707148, -73.910398033)          PATROL BORO BRONX   \n",
              "4 -73.828426  (40.763991557, -73.828425559)   PATROL BORO QUEENS NORTH   \n",
              "\n",
              "  STATION_NAME VIC_AGE_GROUP        VIC_RACE VIC_SEX  \n",
              "0          NaN         25-44           WHITE       F  \n",
              "1          NaN         45-64  WHITE HISPANIC       F  \n",
              "2          NaN         45-64  WHITE HISPANIC       F  \n",
              "3          NaN           <18  WHITE HISPANIC       F  \n",
              "4          NaN         25-44           BLACK       M  "
            ],
            "text/html": [
              "\n",
              "  <div id=\"df-1d1372f7-6785-4acc-a338-d4d63dfa4a44\">\n",
              "    <div class=\"colab-df-container\">\n",
              "      <div>\n",
              "<style scoped>\n",
              "    .dataframe tbody tr th:only-of-type {\n",
              "        vertical-align: middle;\n",
              "    }\n",
              "\n",
              "    .dataframe tbody tr th {\n",
              "        vertical-align: top;\n",
              "    }\n",
              "\n",
              "    .dataframe thead th {\n",
              "        text-align: right;\n",
              "    }\n",
              "</style>\n",
              "<table border=\"1\" class=\"dataframe\">\n",
              "  <thead>\n",
              "    <tr style=\"text-align: right;\">\n",
              "      <th></th>\n",
              "      <th>CMPLNT_NUM</th>\n",
              "      <th>CMPLNT_FR_DT</th>\n",
              "      <th>CMPLNT_FR_TM</th>\n",
              "      <th>CMPLNT_TO_DT</th>\n",
              "      <th>CMPLNT_TO_TM</th>\n",
              "      <th>ADDR_PCT_CD</th>\n",
              "      <th>RPT_DT</th>\n",
              "      <th>KY_CD</th>\n",
              "      <th>OFNS_DESC</th>\n",
              "      <th>PD_CD</th>\n",
              "      <th>PD_DESC</th>\n",
              "      <th>CRM_ATPT_CPTD_CD</th>\n",
              "      <th>LAW_CAT_CD</th>\n",
              "      <th>BORO_NM</th>\n",
              "      <th>LOC_OF_OCCUR_DESC</th>\n",
              "      <th>PREM_TYP_DESC</th>\n",
              "      <th>JURIS_DESC</th>\n",
              "      <th>JURISDICTION_CODE</th>\n",
              "      <th>PARKS_NM</th>\n",
              "      <th>HADEVELOPT</th>\n",
              "      <th>HOUSING_PSA</th>\n",
              "      <th>X_COORD_CD</th>\n",
              "      <th>Y_COORD_CD</th>\n",
              "      <th>SUSP_AGE_GROUP</th>\n",
              "      <th>SUSP_RACE</th>\n",
              "      <th>SUSP_SEX</th>\n",
              "      <th>TRANSIT_DISTRICT</th>\n",
              "      <th>Latitude</th>\n",
              "      <th>Longitude</th>\n",
              "      <th>Lat_Lon</th>\n",
              "      <th>PATROL_BORO</th>\n",
              "      <th>STATION_NAME</th>\n",
              "      <th>VIC_AGE_GROUP</th>\n",
              "      <th>VIC_RACE</th>\n",
              "      <th>VIC_SEX</th>\n",
              "    </tr>\n",
              "  </thead>\n",
              "  <tbody>\n",
              "    <tr>\n",
              "      <th>0</th>\n",
              "      <td>724718389</td>\n",
              "      <td>09/04/2014</td>\n",
              "      <td>17:25:00</td>\n",
              "      <td>09/04/2014</td>\n",
              "      <td>17:35:00</td>\n",
              "      <td>81.0</td>\n",
              "      <td>09/04/2014</td>\n",
              "      <td>344</td>\n",
              "      <td>ASSAULT 3 &amp; RELATED OFFENSES</td>\n",
              "      <td>101.0</td>\n",
              "      <td>ASSAULT 3</td>\n",
              "      <td>COMPLETED</td>\n",
              "      <td>MISDEMEANOR</td>\n",
              "      <td>BROOKLYN</td>\n",
              "      <td>OPPOSITE OF</td>\n",
              "      <td>STREET</td>\n",
              "      <td>N.Y. POLICE DEPT</td>\n",
              "      <td>0.0</td>\n",
              "      <td>NaN</td>\n",
              "      <td>NaN</td>\n",
              "      <td>NaN</td>\n",
              "      <td>1005945.0</td>\n",
              "      <td>188862.0</td>\n",
              "      <td>NaN</td>\n",
              "      <td>NaN</td>\n",
              "      <td>NaN</td>\n",
              "      <td>NaN</td>\n",
              "      <td>40.685041</td>\n",
              "      <td>-73.921777</td>\n",
              "      <td>(40.685040958, -73.921776995)</td>\n",
              "      <td>PATROL BORO BKLYN NORTH</td>\n",
              "      <td>NaN</td>\n",
              "      <td>25-44</td>\n",
              "      <td>WHITE</td>\n",
              "      <td>F</td>\n",
              "    </tr>\n",
              "    <tr>\n",
              "      <th>1</th>\n",
              "      <td>191133903</td>\n",
              "      <td>10/12/2016</td>\n",
              "      <td>07:40:00</td>\n",
              "      <td>10/12/2016</td>\n",
              "      <td>07:45:00</td>\n",
              "      <td>121.0</td>\n",
              "      <td>10/12/2016</td>\n",
              "      <td>109</td>\n",
              "      <td>GRAND LARCENY</td>\n",
              "      <td>417.0</td>\n",
              "      <td>LARCENY,GRAND FROM PERSON,PURS</td>\n",
              "      <td>COMPLETED</td>\n",
              "      <td>FELONY</td>\n",
              "      <td>STATEN ISLAND</td>\n",
              "      <td>NaN</td>\n",
              "      <td>STREET</td>\n",
              "      <td>N.Y. POLICE DEPT</td>\n",
              "      <td>0.0</td>\n",
              "      <td>NaN</td>\n",
              "      <td>NaN</td>\n",
              "      <td>NaN</td>\n",
              "      <td>947034.0</td>\n",
              "      <td>171375.0</td>\n",
              "      <td>UNKNOWN</td>\n",
              "      <td>BLACK</td>\n",
              "      <td>U</td>\n",
              "      <td>NaN</td>\n",
              "      <td>40.636991</td>\n",
              "      <td>-74.134093</td>\n",
              "      <td>(40.63699139, -74.134092508)</td>\n",
              "      <td>PATROL BORO STATEN ISLAND</td>\n",
              "      <td>NaN</td>\n",
              "      <td>45-64</td>\n",
              "      <td>WHITE HISPANIC</td>\n",
              "      <td>F</td>\n",
              "    </tr>\n",
              "    <tr>\n",
              "      <th>2</th>\n",
              "      <td>720151206</td>\n",
              "      <td>09/28/2012</td>\n",
              "      <td>13:30:00</td>\n",
              "      <td>09/28/2012</td>\n",
              "      <td>14:00:00</td>\n",
              "      <td>41.0</td>\n",
              "      <td>10/19/2012</td>\n",
              "      <td>109</td>\n",
              "      <td>GRAND LARCENY</td>\n",
              "      <td>413.0</td>\n",
              "      <td>LARCENY,GRAND BY FALSE PROMISE</td>\n",
              "      <td>COMPLETED</td>\n",
              "      <td>FELONY</td>\n",
              "      <td>BRONX</td>\n",
              "      <td>FRONT OF</td>\n",
              "      <td>STREET</td>\n",
              "      <td>N.Y. POLICE DEPT</td>\n",
              "      <td>0.0</td>\n",
              "      <td>NaN</td>\n",
              "      <td>NaN</td>\n",
              "      <td>NaN</td>\n",
              "      <td>1014179.0</td>\n",
              "      <td>239453.0</td>\n",
              "      <td>NaN</td>\n",
              "      <td>WHITE HISPANIC</td>\n",
              "      <td>M</td>\n",
              "      <td>NaN</td>\n",
              "      <td>40.823876</td>\n",
              "      <td>-73.891863</td>\n",
              "      <td>(40.823876276, -73.891862968)</td>\n",
              "      <td>PATROL BORO BRONX</td>\n",
              "      <td>NaN</td>\n",
              "      <td>45-64</td>\n",
              "      <td>WHITE HISPANIC</td>\n",
              "      <td>F</td>\n",
              "    </tr>\n",
              "    <tr>\n",
              "      <th>3</th>\n",
              "      <td>232242098</td>\n",
              "      <td>03/24/2015</td>\n",
              "      <td>15:45:00</td>\n",
              "      <td>NaN</td>\n",
              "      <td>NaN</td>\n",
              "      <td>46.0</td>\n",
              "      <td>03/24/2015</td>\n",
              "      <td>341</td>\n",
              "      <td>PETIT LARCENY</td>\n",
              "      <td>339.0</td>\n",
              "      <td>LARCENY,PETIT FROM OPEN AREAS,</td>\n",
              "      <td>COMPLETED</td>\n",
              "      <td>MISDEMEANOR</td>\n",
              "      <td>BRONX</td>\n",
              "      <td>FRONT OF</td>\n",
              "      <td>STREET</td>\n",
              "      <td>N.Y. POLICE DEPT</td>\n",
              "      <td>0.0</td>\n",
              "      <td>NaN</td>\n",
              "      <td>NaN</td>\n",
              "      <td>NaN</td>\n",
              "      <td>1009041.0</td>\n",
              "      <td>247401.0</td>\n",
              "      <td>NaN</td>\n",
              "      <td>BLACK</td>\n",
              "      <td>M</td>\n",
              "      <td>NaN</td>\n",
              "      <td>40.845707</td>\n",
              "      <td>-73.910398</td>\n",
              "      <td>(40.845707148, -73.910398033)</td>\n",
              "      <td>PATROL BORO BRONX</td>\n",
              "      <td>NaN</td>\n",
              "      <td>&lt;18</td>\n",
              "      <td>WHITE HISPANIC</td>\n",
              "      <td>F</td>\n",
              "    </tr>\n",
              "    <tr>\n",
              "      <th>4</th>\n",
              "      <td>708078702</td>\n",
              "      <td>05/20/2017</td>\n",
              "      <td>04:02:00</td>\n",
              "      <td>05/20/2017</td>\n",
              "      <td>04:09:00</td>\n",
              "      <td>109.0</td>\n",
              "      <td>05/20/2017</td>\n",
              "      <td>344</td>\n",
              "      <td>ASSAULT 3 &amp; RELATED OFFENSES</td>\n",
              "      <td>101.0</td>\n",
              "      <td>ASSAULT 3</td>\n",
              "      <td>COMPLETED</td>\n",
              "      <td>MISDEMEANOR</td>\n",
              "      <td>QUEENS</td>\n",
              "      <td>FRONT OF</td>\n",
              "      <td>STREET</td>\n",
              "      <td>N.Y. POLICE DEPT</td>\n",
              "      <td>0.0</td>\n",
              "      <td>NaN</td>\n",
              "      <td>NaN</td>\n",
              "      <td>NaN</td>\n",
              "      <td>1031779.0</td>\n",
              "      <td>217663.0</td>\n",
              "      <td>25-44</td>\n",
              "      <td>WHITE HISPANIC</td>\n",
              "      <td>M</td>\n",
              "      <td>NaN</td>\n",
              "      <td>40.763992</td>\n",
              "      <td>-73.828426</td>\n",
              "      <td>(40.763991557, -73.828425559)</td>\n",
              "      <td>PATROL BORO QUEENS NORTH</td>\n",
              "      <td>NaN</td>\n",
              "      <td>25-44</td>\n",
              "      <td>BLACK</td>\n",
              "      <td>M</td>\n",
              "    </tr>\n",
              "  </tbody>\n",
              "</table>\n",
              "</div>\n",
              "      <button class=\"colab-df-convert\" onclick=\"convertToInteractive('df-1d1372f7-6785-4acc-a338-d4d63dfa4a44')\"\n",
              "              title=\"Convert this dataframe to an interactive table.\"\n",
              "              style=\"display:none;\">\n",
              "        \n",
              "  <svg xmlns=\"http://www.w3.org/2000/svg\" height=\"24px\"viewBox=\"0 0 24 24\"\n",
              "       width=\"24px\">\n",
              "    <path d=\"M0 0h24v24H0V0z\" fill=\"none\"/>\n",
              "    <path d=\"M18.56 5.44l.94 2.06.94-2.06 2.06-.94-2.06-.94-.94-2.06-.94 2.06-2.06.94zm-11 1L8.5 8.5l.94-2.06 2.06-.94-2.06-.94L8.5 2.5l-.94 2.06-2.06.94zm10 10l.94 2.06.94-2.06 2.06-.94-2.06-.94-.94-2.06-.94 2.06-2.06.94z\"/><path d=\"M17.41 7.96l-1.37-1.37c-.4-.4-.92-.59-1.43-.59-.52 0-1.04.2-1.43.59L10.3 9.45l-7.72 7.72c-.78.78-.78 2.05 0 2.83L4 21.41c.39.39.9.59 1.41.59.51 0 1.02-.2 1.41-.59l7.78-7.78 2.81-2.81c.8-.78.8-2.07 0-2.86zM5.41 20L4 18.59l7.72-7.72 1.47 1.35L5.41 20z\"/>\n",
              "  </svg>\n",
              "      </button>\n",
              "      \n",
              "  <style>\n",
              "    .colab-df-container {\n",
              "      display:flex;\n",
              "      flex-wrap:wrap;\n",
              "      gap: 12px;\n",
              "    }\n",
              "\n",
              "    .colab-df-convert {\n",
              "      background-color: #E8F0FE;\n",
              "      border: none;\n",
              "      border-radius: 50%;\n",
              "      cursor: pointer;\n",
              "      display: none;\n",
              "      fill: #1967D2;\n",
              "      height: 32px;\n",
              "      padding: 0 0 0 0;\n",
              "      width: 32px;\n",
              "    }\n",
              "\n",
              "    .colab-df-convert:hover {\n",
              "      background-color: #E2EBFA;\n",
              "      box-shadow: 0px 1px 2px rgba(60, 64, 67, 0.3), 0px 1px 3px 1px rgba(60, 64, 67, 0.15);\n",
              "      fill: #174EA6;\n",
              "    }\n",
              "\n",
              "    [theme=dark] .colab-df-convert {\n",
              "      background-color: #3B4455;\n",
              "      fill: #D2E3FC;\n",
              "    }\n",
              "\n",
              "    [theme=dark] .colab-df-convert:hover {\n",
              "      background-color: #434B5C;\n",
              "      box-shadow: 0px 1px 3px 1px rgba(0, 0, 0, 0.15);\n",
              "      filter: drop-shadow(0px 1px 2px rgba(0, 0, 0, 0.3));\n",
              "      fill: #FFFFFF;\n",
              "    }\n",
              "  </style>\n",
              "\n",
              "      <script>\n",
              "        const buttonEl =\n",
              "          document.querySelector('#df-1d1372f7-6785-4acc-a338-d4d63dfa4a44 button.colab-df-convert');\n",
              "        buttonEl.style.display =\n",
              "          google.colab.kernel.accessAllowed ? 'block' : 'none';\n",
              "\n",
              "        async function convertToInteractive(key) {\n",
              "          const element = document.querySelector('#df-1d1372f7-6785-4acc-a338-d4d63dfa4a44');\n",
              "          const dataTable =\n",
              "            await google.colab.kernel.invokeFunction('convertToInteractive',\n",
              "                                                     [key], {});\n",
              "          if (!dataTable) return;\n",
              "\n",
              "          const docLinkHtml = 'Like what you see? Visit the ' +\n",
              "            '<a target=\"_blank\" href=https://colab.research.google.com/notebooks/data_table.ipynb>data table notebook</a>'\n",
              "            + ' to learn more about interactive tables.';\n",
              "          element.innerHTML = '';\n",
              "          dataTable['output_type'] = 'display_data';\n",
              "          await google.colab.output.renderOutput(dataTable, element);\n",
              "          const docLink = document.createElement('div');\n",
              "          docLink.innerHTML = docLinkHtml;\n",
              "          element.appendChild(docLink);\n",
              "        }\n",
              "      </script>\n",
              "    </div>\n",
              "  </div>\n",
              "  "
            ]
          },
          "metadata": {},
          "execution_count": 5
        }
      ],
      "source": [
        "# Import the data\n",
        "df = pd.read_csv('/content/NYPD_Complaint_Data_Historic.csv')\n",
        "df.head()"
      ]
    },
    {
      "cell_type": "markdown",
      "metadata": {
        "id": "tl75F-vvmWKU"
      },
      "source": [
        "### Data Exploration & Data Modeling "
      ]
    },
    {
      "cell_type": "code",
      "execution_count": 6,
      "metadata": {
        "colab": {
          "base_uri": "https://localhost:8080/"
        },
        "id": "m_e0W2z0mWKU",
        "outputId": "a97c4617-f847-4c73-b205-075eb5415b5f"
      },
      "outputs": [
        {
          "output_type": "execute_result",
          "data": {
            "text/plain": [
              "Index(['CMPLNT_NUM', 'CMPLNT_FR_DT', 'CMPLNT_FR_TM', 'CMPLNT_TO_DT',\n",
              "       'CMPLNT_TO_TM', 'ADDR_PCT_CD', 'RPT_DT', 'KY_CD', 'OFNS_DESC', 'PD_CD',\n",
              "       'PD_DESC', 'CRM_ATPT_CPTD_CD', 'LAW_CAT_CD', 'BORO_NM',\n",
              "       'LOC_OF_OCCUR_DESC', 'PREM_TYP_DESC', 'JURIS_DESC', 'JURISDICTION_CODE',\n",
              "       'PARKS_NM', 'HADEVELOPT', 'HOUSING_PSA', 'X_COORD_CD', 'Y_COORD_CD',\n",
              "       'SUSP_AGE_GROUP', 'SUSP_RACE', 'SUSP_SEX', 'TRANSIT_DISTRICT',\n",
              "       'Latitude', 'Longitude', 'Lat_Lon', 'PATROL_BORO', 'STATION_NAME',\n",
              "       'VIC_AGE_GROUP', 'VIC_RACE', 'VIC_SEX'],\n",
              "      dtype='object')"
            ]
          },
          "metadata": {},
          "execution_count": 6
        }
      ],
      "source": [
        "df.columns"
      ]
    },
    {
      "cell_type": "code",
      "execution_count": 7,
      "metadata": {
        "colab": {
          "base_uri": "https://localhost:8080/"
        },
        "id": "m_sJSYhgmWKV",
        "outputId": "7fd08eaa-0d9a-4e18-ea7e-c05c996e2e8d"
      },
      "outputs": [
        {
          "output_type": "execute_result",
          "data": {
            "text/plain": [
              "(6983207, 35)"
            ]
          },
          "metadata": {},
          "execution_count": 7
        }
      ],
      "source": [
        "df.shape"
      ]
    },
    {
      "cell_type": "code",
      "execution_count": 8,
      "metadata": {
        "colab": {
          "base_uri": "https://localhost:8080/"
        },
        "id": "HCkebhftmWKW",
        "outputId": "5bc87151-4603-4a46-c22c-801667105572"
      },
      "outputs": [
        {
          "output_type": "execute_result",
          "data": {
            "text/plain": [
              "F    2733665\n",
              "M    2288821\n",
              "E    1119264\n",
              "D     841146\n",
              "U          4\n",
              "Name: VIC_SEX, dtype: int64"
            ]
          },
          "metadata": {},
          "execution_count": 8
        }
      ],
      "source": [
        "df.VIC_SEX.value_counts()"
      ]
    },
    {
      "cell_type": "code",
      "execution_count": 9,
      "metadata": {
        "colab": {
          "base_uri": "https://localhost:8080/"
        },
        "id": "LxNCsGx-mWKW",
        "outputId": "56e40584-28e0-4ca5-b37d-8878449252a6"
      },
      "outputs": [
        {
          "output_type": "execute_result",
          "data": {
            "text/plain": [
              "F    2733665\n",
              "M    2288821\n",
              "E    1119264\n",
              "D     841146\n",
              "U          4\n",
              "Name: VIC_SEX, dtype: int64"
            ]
          },
          "metadata": {},
          "execution_count": 9
        }
      ],
      "source": [
        "df.VIC_SEX.value_counts()"
      ]
    },
    {
      "cell_type": "code",
      "execution_count": 10,
      "metadata": {
        "id": "nIQLkU8rmWKX"
      },
      "outputs": [],
      "source": [
        "columns_remove = ['CMPLNT_TO_DT', 'CMPLNT_TO_TM', 'HADEVELOPT', 'HOUSING_PSA', 'LOC_OF_OCCUR_DESC', 'PARKS_NM', 'RPT_DT', 'STATION_NAME', 'TRANSIT_DISTRICT', 'X_COORD_CD','Y_COORD_CD', 'Lat_Lon']\n",
        "df = df.drop(columns_remove, axis=1)"
      ]
    },
    {
      "cell_type": "code",
      "execution_count": 11,
      "metadata": {
        "colab": {
          "base_uri": "https://localhost:8080/"
        },
        "id": "wkMeqgmFmWKX",
        "outputId": "9264d2a7-3b27-4591-e8eb-fe83c838d18e"
      },
      "outputs": [
        {
          "output_type": "execute_result",
          "data": {
            "text/plain": [
              "Index(['CMPLNT_NUM', 'CMPLNT_FR_DT', 'CMPLNT_FR_TM', 'ADDR_PCT_CD', 'KY_CD',\n",
              "       'OFNS_DESC', 'PD_CD', 'PD_DESC', 'CRM_ATPT_CPTD_CD', 'LAW_CAT_CD',\n",
              "       'BORO_NM', 'PREM_TYP_DESC', 'JURIS_DESC', 'JURISDICTION_CODE',\n",
              "       'SUSP_AGE_GROUP', 'SUSP_RACE', 'SUSP_SEX', 'Latitude', 'Longitude',\n",
              "       'PATROL_BORO', 'VIC_AGE_GROUP', 'VIC_RACE', 'VIC_SEX'],\n",
              "      dtype='object')"
            ]
          },
          "metadata": {},
          "execution_count": 11
        }
      ],
      "source": [
        "df.columns"
      ]
    },
    {
      "cell_type": "markdown",
      "metadata": {
        "id": "7S-MW2D4mWKX"
      },
      "source": [
        "### Time"
      ]
    },
    {
      "cell_type": "code",
      "execution_count": 12,
      "metadata": {
        "id": "KbTl5Nv3mWKY"
      },
      "outputs": [],
      "source": [
        "df.dropna(subset=['CMPLNT_FR_DT'], inplace=True)\n",
        "df.dropna(subset=['CMPLNT_FR_TM'], inplace=True)"
      ]
    },
    {
      "cell_type": "code",
      "execution_count": 13,
      "metadata": {
        "colab": {
          "base_uri": "https://localhost:8080/"
        },
        "id": "UKFYyInKmWKY",
        "outputId": "7fbe715f-a894-4134-a596-aa1b464d7938"
      },
      "outputs": [
        {
          "output_type": "execute_result",
          "data": {
            "text/plain": [
              "0          09/04/2014 17:25:00\n",
              "1          10/12/2016 07:40:00\n",
              "2          09/28/2012 13:30:00\n",
              "3          03/24/2015 15:45:00\n",
              "4          05/20/2017 04:02:00\n",
              "                  ...         \n",
              "6983202    09/12/2014 17:50:00\n",
              "6983203    12/20/2012 13:30:00\n",
              "6983204    04/04/2013 13:00:00\n",
              "6983205    09/09/2015 13:00:00\n",
              "6983206    08/19/2012 01:00:00\n",
              "Name: CMPLNT_FR_DT_TM, Length: 6982505, dtype: object"
            ]
          },
          "metadata": {},
          "execution_count": 13
        }
      ],
      "source": [
        "df['CMPLNT_FR_DT_TM'] = df['CMPLNT_FR_DT'] + ' ' + df['CMPLNT_FR_TM']\n",
        "df['CMPLNT_FR_DT_TM']"
      ]
    },
    {
      "cell_type": "code",
      "execution_count": 14,
      "metadata": {
        "id": "mozdB4rtmWKY"
      },
      "outputs": [],
      "source": [
        "df['CMPLNT_FR_DT_TM'] = pd.to_datetime(df['CMPLNT_FR_DT_TM'], infer_datetime_format=True,errors = 'coerce')"
      ]
    },
    {
      "cell_type": "code",
      "execution_count": 15,
      "metadata": {
        "id": "avIK4gv5mWKY"
      },
      "outputs": [],
      "source": [
        "df['CMPLNT_FR_YEAR'] = df['CMPLNT_FR_DT'].map(lambda x: int(str(x).split('/')[2]))\n",
        "df['CMPLNT_FR_MONTH'] = df['CMPLNT_FR_DT'].map(lambda x: int(x.split('/')[0]))\n",
        "df['CMPLNT_FR_DAY'] = df['CMPLNT_FR_DT'].map(lambda x: int(x.split('/')[1]))\n",
        "df['CMPLNT_FR_HOUR'] = df['CMPLNT_FR_TM'].map(lambda x: int(x.split(':')[0]))"
      ]
    },
    {
      "cell_type": "code",
      "execution_count": 16,
      "metadata": {
        "colab": {
          "base_uri": "https://localhost:8080/"
        },
        "id": "5TVjMVCvmWKZ",
        "outputId": "3546d875-fda2-4023-de08-6a602ef535b7"
      },
      "outputs": [
        {
          "output_type": "execute_result",
          "data": {
            "text/plain": [
              "0          2014\n",
              "1          2016\n",
              "2          2012\n",
              "3          2015\n",
              "4          2017\n",
              "           ... \n",
              "6983202    2014\n",
              "6983203    2012\n",
              "6983204    2013\n",
              "6983205    2015\n",
              "6983206    2012\n",
              "Name: CMPLNT_FR_YEAR, Length: 6982505, dtype: int64"
            ]
          },
          "metadata": {},
          "execution_count": 16
        }
      ],
      "source": [
        "df['CMPLNT_FR_YEAR']"
      ]
    },
    {
      "cell_type": "code",
      "execution_count": 17,
      "metadata": {
        "colab": {
          "base_uri": "https://localhost:8080/"
        },
        "id": "kIZcBRNamWKZ",
        "outputId": "728e6456-4da5-4db4-c950-11aa99f605d0"
      },
      "outputs": [
        {
          "output_type": "execute_result",
          "data": {
            "text/plain": [
              "0           9\n",
              "1          10\n",
              "2           9\n",
              "3           3\n",
              "4           5\n",
              "           ..\n",
              "6983202     9\n",
              "6983203    12\n",
              "6983204     4\n",
              "6983205     9\n",
              "6983206     8\n",
              "Name: CMPLNT_FR_MONTH, Length: 6982505, dtype: int64"
            ]
          },
          "metadata": {},
          "execution_count": 17
        }
      ],
      "source": [
        "df['CMPLNT_FR_MONTH']"
      ]
    },
    {
      "cell_type": "code",
      "execution_count": 18,
      "metadata": {
        "colab": {
          "base_uri": "https://localhost:8080/"
        },
        "id": "m1UkSnLGmWKZ",
        "outputId": "b1b0bd68-56e2-45fb-df10-41381476e502"
      },
      "outputs": [
        {
          "output_type": "execute_result",
          "data": {
            "text/plain": [
              "0           4\n",
              "1          12\n",
              "2          28\n",
              "3          24\n",
              "4          20\n",
              "           ..\n",
              "6983202    12\n",
              "6983203    20\n",
              "6983204     4\n",
              "6983205     9\n",
              "6983206    19\n",
              "Name: CMPLNT_FR_DAY, Length: 6982505, dtype: int64"
            ]
          },
          "metadata": {},
          "execution_count": 18
        }
      ],
      "source": [
        "df.CMPLNT_FR_DAY"
      ]
    },
    {
      "cell_type": "code",
      "execution_count": 19,
      "metadata": {
        "colab": {
          "base_uri": "https://localhost:8080/"
        },
        "id": "oDldeKjTmWKa",
        "outputId": "1d0682f5-278b-485f-f881-823e7550afe4"
      },
      "outputs": [
        {
          "output_type": "execute_result",
          "data": {
            "text/plain": [
              "array([2014, 2016, 2012, 2015, 2017, 2011, 2007, 2006, 2013, 2018, 2010,\n",
              "       2005, 2009, 2008, 1991, 1974, 2003, 2004, 1950, 1015, 2002, 1994,\n",
              "       1985, 2001, 1978, 1993, 1967, 1027, 1989, 1992, 1999, 1990, 1995,\n",
              "       2000, 1972, 1980, 1998, 1957, 1982, 1930, 1971, 1016, 1986, 1996,\n",
              "       1997, 1979, 1913, 1987, 1916, 1017, 1915, 1976, 1910, 1975, 1988,\n",
              "       1966, 1955, 1969, 1977, 1906, 1920, 1968, 1984, 1960, 1908, 1922,\n",
              "       1940, 1900, 1981, 1965, 1905, 1970, 1929, 1983, 1911, 1909, 1962,\n",
              "       1941, 1954, 1961, 1948, 1956, 1973, 1938, 1959, 1945, 1964, 1946,\n",
              "       1919, 1026, 1019, 1029, 1928, 1918, 1018, 1028, 1951, 1912, 1025,\n",
              "       2019, 1949, 1914, 1917, 1947, 1958, 1942])"
            ]
          },
          "metadata": {},
          "execution_count": 19
        }
      ],
      "source": [
        "df['CMPLNT_FR_YEAR'].unique()"
      ]
    },
    {
      "cell_type": "code",
      "execution_count": 20,
      "metadata": {
        "colab": {
          "base_uri": "https://localhost:8080/"
        },
        "id": "ZJyOY-V7mWKa",
        "outputId": "3fd31921-1f1b-485e-9304-ca254ee07603"
      },
      "outputs": [
        {
          "output_type": "execute_result",
          "data": {
            "text/plain": [
              "106"
            ]
          },
          "metadata": {},
          "execution_count": 20
        }
      ],
      "source": [
        "df['CMPLNT_FR_YEAR'].nunique()"
      ]
    },
    {
      "cell_type": "code",
      "execution_count": 21,
      "metadata": {
        "id": "_WyFcM2fmWKa"
      },
      "outputs": [],
      "source": [
        "l=list(df['CMPLNT_FR_YEAR'].unique())\n",
        "a= df.shape[0]"
      ]
    },
    {
      "cell_type": "code",
      "execution_count": 22,
      "metadata": {
        "colab": {
          "base_uri": "https://localhost:8080/"
        },
        "id": "h4EB284imWKa",
        "outputId": "e5181d4b-7210-450c-e36b-fd2446812fa8"
      },
      "outputs": [
        {
          "output_type": "stream",
          "name": "stdout",
          "text": [
            "number of rows belong to the year  2014  :  492316\n",
            "number of rows belong to the year  2016  :  478765\n",
            "number of rows belong to the year  2012  :  504945\n",
            "number of rows belong to the year  2015  :  479009\n",
            "number of rows belong to the year  2017  :  469070\n",
            "number of rows belong to the year  2011  :  498818\n",
            "number of rows belong to the year  2007  :  535424\n",
            "number of rows belong to the year  2006  :  529126\n",
            "number of rows belong to the year  2013  :  496063\n",
            "number of rows belong to the year  2018  :  477513\n",
            "number of rows belong to the year  2010  :  510328\n",
            "number of rows belong to the year  2005  :  10806\n",
            "number of rows belong to the year  2009  :  511217\n",
            "number of rows belong to the year  2008  :  528907\n",
            "number of rows belong to the year  1991  :  54\n",
            "number of rows belong to the year  1974  :  19\n",
            "number of rows belong to the year  2003  :  1624\n",
            "number of rows belong to the year  2004  :  2175\n",
            "number of rows belong to the year  1950  :  3\n",
            "number of rows belong to the year  1015  :  9\n",
            "number of rows belong to the year  2002  :  1136\n",
            "number of rows belong to the year  1994  :  97\n",
            "number of rows belong to the year  1985  :  37\n",
            "number of rows belong to the year  2001  :  1118\n",
            "number of rows belong to the year  1978  :  13\n",
            "number of rows belong to the year  1993  :  72\n",
            "number of rows belong to the year  1967  :  14\n",
            "number of rows belong to the year  1027  :  3\n",
            "number of rows belong to the year  1989  :  44\n",
            "number of rows belong to the year  1992  :  63\n",
            "number of rows belong to the year  1999  :  381\n",
            "number of rows belong to the year  1990  :  47\n",
            "number of rows belong to the year  1995  :  108\n",
            "number of rows belong to the year  2000  :  939\n",
            "number of rows belong to the year  1972  :  15\n",
            "number of rows belong to the year  1980  :  21\n",
            "number of rows belong to the year  1998  :  280\n",
            "number of rows belong to the year  1957  :  2\n",
            "number of rows belong to the year  1982  :  13\n",
            "number of rows belong to the year  1930  :  1\n",
            "number of rows belong to the year  1971  :  14\n",
            "number of rows belong to the year  1016  :  17\n",
            "number of rows belong to the year  1986  :  38\n",
            "number of rows belong to the year  1996  :  153\n",
            "number of rows belong to the year  1997  :  152\n",
            "number of rows belong to the year  1979  :  29\n",
            "number of rows belong to the year  1913  :  9\n",
            "number of rows belong to the year  1987  :  25\n",
            "number of rows belong to the year  1916  :  7\n",
            "number of rows belong to the year  1017  :  24\n",
            "number of rows belong to the year  1915  :  9\n",
            "number of rows belong to the year  1976  :  7\n",
            "number of rows belong to the year  1910  :  9\n",
            "number of rows belong to the year  1975  :  25\n",
            "number of rows belong to the year  1988  :  25\n",
            "number of rows belong to the year  1966  :  27\n",
            "number of rows belong to the year  1955  :  3\n",
            "number of rows belong to the year  1969  :  8\n",
            "number of rows belong to the year  1977  :  26\n",
            "number of rows belong to the year  1906  :  1\n",
            "number of rows belong to the year  1920  :  11\n",
            "number of rows belong to the year  1968  :  14\n",
            "number of rows belong to the year  1984  :  19\n",
            "number of rows belong to the year  1960  :  13\n",
            "number of rows belong to the year  1908  :  3\n",
            "number of rows belong to the year  1922  :  1\n",
            "number of rows belong to the year  1940  :  1\n",
            "number of rows belong to the year  1900  :  5\n",
            "number of rows belong to the year  1981  :  17\n",
            "number of rows belong to the year  1965  :  11\n",
            "number of rows belong to the year  1905  :  2\n",
            "number of rows belong to the year  1970  :  13\n",
            "number of rows belong to the year  1929  :  1\n",
            "number of rows belong to the year  1983  :  19\n",
            "number of rows belong to the year  1911  :  9\n",
            "number of rows belong to the year  1909  :  3\n",
            "number of rows belong to the year  1962  :  3\n",
            "number of rows belong to the year  1941  :  2\n",
            "number of rows belong to the year  1954  :  3\n",
            "number of rows belong to the year  1961  :  1\n",
            "number of rows belong to the year  1948  :  2\n",
            "number of rows belong to the year  1956  :  1\n",
            "number of rows belong to the year  1973  :  15\n",
            "number of rows belong to the year  1938  :  1\n",
            "number of rows belong to the year  1959  :  2\n",
            "number of rows belong to the year  1945  :  2\n",
            "number of rows belong to the year  1964  :  1\n",
            "number of rows belong to the year  1946  :  2\n",
            "number of rows belong to the year  1919  :  5\n",
            "number of rows belong to the year  1026  :  5\n",
            "number of rows belong to the year  1019  :  40\n",
            "number of rows belong to the year  1029  :  13\n",
            "number of rows belong to the year  1928  :  1\n",
            "number of rows belong to the year  1918  :  7\n",
            "number of rows belong to the year  1018  :  31\n",
            "number of rows belong to the year  1028  :  12\n",
            "number of rows belong to the year  1951  :  1\n",
            "number of rows belong to the year  1912  :  11\n",
            "number of rows belong to the year  1025  :  1\n",
            "number of rows belong to the year  2019  :  450976\n",
            "number of rows belong to the year  1949  :  2\n",
            "number of rows belong to the year  1914  :  11\n",
            "number of rows belong to the year  1917  :  5\n",
            "number of rows belong to the year  1947  :  1\n",
            "number of rows belong to the year  1958  :  1\n",
            "number of rows belong to the year  1942  :  2\n"
          ]
        }
      ],
      "source": [
        "for year in l :\n",
        "    print('number of rows belong to the year ',year,' : ', df[df['CMPLNT_FR_YEAR']==year]['CMPLNT_FR_YEAR'].count())"
      ]
    },
    {
      "cell_type": "code",
      "execution_count": 23,
      "metadata": {
        "colab": {
          "base_uri": "https://localhost:8080/"
        },
        "id": "lrJv_QmSmWKb",
        "outputId": "1ad289c4-8b54-4975-df1e-7085b48e2317"
      },
      "outputs": [
        {
          "output_type": "execute_result",
          "data": {
            "text/plain": [
              "(529126, 28)"
            ]
          },
          "metadata": {},
          "execution_count": 23
        }
      ],
      "source": [
        "df[df['CMPLNT_FR_YEAR']==2006].shape"
      ]
    },
    {
      "cell_type": "code",
      "execution_count": 24,
      "metadata": {
        "colab": {
          "base_uri": "https://localhost:8080/"
        },
        "id": "DG5hk0MPmWKb",
        "outputId": "c9d9f92b-ccab-4c57-e0bf-2f1ebc032eeb"
      },
      "outputs": [
        {
          "output_type": "execute_result",
          "data": {
            "text/plain": [
              "(535424, 28)"
            ]
          },
          "metadata": {},
          "execution_count": 24
        }
      ],
      "source": [
        "df[df['CMPLNT_FR_YEAR']==2007].shape"
      ]
    },
    {
      "cell_type": "code",
      "execution_count": 25,
      "metadata": {
        "colab": {
          "base_uri": "https://localhost:8080/"
        },
        "id": "3Vh4tLcpmWKb",
        "outputId": "7422f2d6-5cbc-4356-d490-aed475c00842"
      },
      "outputs": [
        {
          "output_type": "execute_result",
          "data": {
            "text/plain": [
              "(10806, 28)"
            ]
          },
          "metadata": {},
          "execution_count": 25
        }
      ],
      "source": [
        "df[df['CMPLNT_FR_YEAR']==2005].shape"
      ]
    },
    {
      "cell_type": "code",
      "execution_count": 26,
      "metadata": {
        "colab": {
          "base_uri": "https://localhost:8080/"
        },
        "id": "xKvFJwX0mWKb",
        "outputId": "7326c8c9-1560-42f9-95fe-3fec6d475c59"
      },
      "outputs": [
        {
          "output_type": "execute_result",
          "data": {
            "text/plain": [
              "(2175, 28)"
            ]
          },
          "metadata": {},
          "execution_count": 26
        }
      ],
      "source": [
        "df[df['CMPLNT_FR_YEAR']==2004].shape"
      ]
    },
    {
      "cell_type": "code",
      "execution_count": 27,
      "metadata": {
        "colab": {
          "base_uri": "https://localhost:8080/",
          "height": 496
        },
        "id": "oStyvIzDmWKb",
        "outputId": "1aa0f2f6-8eca-4d0e-f917-eb734c64de46"
      },
      "outputs": [
        {
          "output_type": "execute_result",
          "data": {
            "text/plain": [
              "   CMPLNT_NUM CMPLNT_FR_DT CMPLNT_FR_TM  ADDR_PCT_CD  KY_CD  \\\n",
              "0   724718389   09/04/2014     17:25:00         81.0    344   \n",
              "1   191133903   10/12/2016     07:40:00        121.0    109   \n",
              "2   720151206   09/28/2012     13:30:00         41.0    109   \n",
              "3   232242098   03/24/2015     15:45:00         46.0    341   \n",
              "4   708078702   05/20/2017     04:02:00        109.0    344   \n",
              "\n",
              "                      OFNS_DESC  PD_CD                         PD_DESC  \\\n",
              "0  ASSAULT 3 & RELATED OFFENSES  101.0                       ASSAULT 3   \n",
              "1                 GRAND LARCENY  417.0  LARCENY,GRAND FROM PERSON,PURS   \n",
              "2                 GRAND LARCENY  413.0  LARCENY,GRAND BY FALSE PROMISE   \n",
              "3                 PETIT LARCENY  339.0  LARCENY,PETIT FROM OPEN AREAS,   \n",
              "4  ASSAULT 3 & RELATED OFFENSES  101.0                       ASSAULT 3   \n",
              "\n",
              "  CRM_ATPT_CPTD_CD   LAW_CAT_CD        BORO_NM PREM_TYP_DESC  \\\n",
              "0        COMPLETED  MISDEMEANOR       BROOKLYN        STREET   \n",
              "1        COMPLETED       FELONY  STATEN ISLAND        STREET   \n",
              "2        COMPLETED       FELONY          BRONX        STREET   \n",
              "3        COMPLETED  MISDEMEANOR          BRONX        STREET   \n",
              "4        COMPLETED  MISDEMEANOR         QUEENS        STREET   \n",
              "\n",
              "         JURIS_DESC  JURISDICTION_CODE SUSP_AGE_GROUP       SUSP_RACE  \\\n",
              "0  N.Y. POLICE DEPT                0.0            NaN             NaN   \n",
              "1  N.Y. POLICE DEPT                0.0        UNKNOWN           BLACK   \n",
              "2  N.Y. POLICE DEPT                0.0            NaN  WHITE HISPANIC   \n",
              "3  N.Y. POLICE DEPT                0.0            NaN           BLACK   \n",
              "4  N.Y. POLICE DEPT                0.0          25-44  WHITE HISPANIC   \n",
              "\n",
              "  SUSP_SEX   Latitude  Longitude                PATROL_BORO VIC_AGE_GROUP  \\\n",
              "0      NaN  40.685041 -73.921777    PATROL BORO BKLYN NORTH         25-44   \n",
              "1        U  40.636991 -74.134093  PATROL BORO STATEN ISLAND         45-64   \n",
              "2        M  40.823876 -73.891863          PATROL BORO BRONX         45-64   \n",
              "3        M  40.845707 -73.910398          PATROL BORO BRONX           <18   \n",
              "4        M  40.763992 -73.828426   PATROL BORO QUEENS NORTH         25-44   \n",
              "\n",
              "         VIC_RACE VIC_SEX     CMPLNT_FR_DT_TM  CMPLNT_FR_YEAR  \\\n",
              "0           WHITE       F 2014-09-04 17:25:00            2014   \n",
              "1  WHITE HISPANIC       F 2016-10-12 07:40:00            2016   \n",
              "2  WHITE HISPANIC       F 2012-09-28 13:30:00            2012   \n",
              "3  WHITE HISPANIC       F 2015-03-24 15:45:00            2015   \n",
              "4           BLACK       M 2017-05-20 04:02:00            2017   \n",
              "\n",
              "   CMPLNT_FR_MONTH  CMPLNT_FR_DAY  CMPLNT_FR_HOUR  \n",
              "0                9              4              17  \n",
              "1               10             12               7  \n",
              "2                9             28              13  \n",
              "3                3             24              15  \n",
              "4                5             20               4  "
            ],
            "text/html": [
              "\n",
              "  <div id=\"df-5ba00ef7-af1d-4c00-a360-ee27488ec65c\">\n",
              "    <div class=\"colab-df-container\">\n",
              "      <div>\n",
              "<style scoped>\n",
              "    .dataframe tbody tr th:only-of-type {\n",
              "        vertical-align: middle;\n",
              "    }\n",
              "\n",
              "    .dataframe tbody tr th {\n",
              "        vertical-align: top;\n",
              "    }\n",
              "\n",
              "    .dataframe thead th {\n",
              "        text-align: right;\n",
              "    }\n",
              "</style>\n",
              "<table border=\"1\" class=\"dataframe\">\n",
              "  <thead>\n",
              "    <tr style=\"text-align: right;\">\n",
              "      <th></th>\n",
              "      <th>CMPLNT_NUM</th>\n",
              "      <th>CMPLNT_FR_DT</th>\n",
              "      <th>CMPLNT_FR_TM</th>\n",
              "      <th>ADDR_PCT_CD</th>\n",
              "      <th>KY_CD</th>\n",
              "      <th>OFNS_DESC</th>\n",
              "      <th>PD_CD</th>\n",
              "      <th>PD_DESC</th>\n",
              "      <th>CRM_ATPT_CPTD_CD</th>\n",
              "      <th>LAW_CAT_CD</th>\n",
              "      <th>BORO_NM</th>\n",
              "      <th>PREM_TYP_DESC</th>\n",
              "      <th>JURIS_DESC</th>\n",
              "      <th>JURISDICTION_CODE</th>\n",
              "      <th>SUSP_AGE_GROUP</th>\n",
              "      <th>SUSP_RACE</th>\n",
              "      <th>SUSP_SEX</th>\n",
              "      <th>Latitude</th>\n",
              "      <th>Longitude</th>\n",
              "      <th>PATROL_BORO</th>\n",
              "      <th>VIC_AGE_GROUP</th>\n",
              "      <th>VIC_RACE</th>\n",
              "      <th>VIC_SEX</th>\n",
              "      <th>CMPLNT_FR_DT_TM</th>\n",
              "      <th>CMPLNT_FR_YEAR</th>\n",
              "      <th>CMPLNT_FR_MONTH</th>\n",
              "      <th>CMPLNT_FR_DAY</th>\n",
              "      <th>CMPLNT_FR_HOUR</th>\n",
              "    </tr>\n",
              "  </thead>\n",
              "  <tbody>\n",
              "    <tr>\n",
              "      <th>0</th>\n",
              "      <td>724718389</td>\n",
              "      <td>09/04/2014</td>\n",
              "      <td>17:25:00</td>\n",
              "      <td>81.0</td>\n",
              "      <td>344</td>\n",
              "      <td>ASSAULT 3 &amp; RELATED OFFENSES</td>\n",
              "      <td>101.0</td>\n",
              "      <td>ASSAULT 3</td>\n",
              "      <td>COMPLETED</td>\n",
              "      <td>MISDEMEANOR</td>\n",
              "      <td>BROOKLYN</td>\n",
              "      <td>STREET</td>\n",
              "      <td>N.Y. POLICE DEPT</td>\n",
              "      <td>0.0</td>\n",
              "      <td>NaN</td>\n",
              "      <td>NaN</td>\n",
              "      <td>NaN</td>\n",
              "      <td>40.685041</td>\n",
              "      <td>-73.921777</td>\n",
              "      <td>PATROL BORO BKLYN NORTH</td>\n",
              "      <td>25-44</td>\n",
              "      <td>WHITE</td>\n",
              "      <td>F</td>\n",
              "      <td>2014-09-04 17:25:00</td>\n",
              "      <td>2014</td>\n",
              "      <td>9</td>\n",
              "      <td>4</td>\n",
              "      <td>17</td>\n",
              "    </tr>\n",
              "    <tr>\n",
              "      <th>1</th>\n",
              "      <td>191133903</td>\n",
              "      <td>10/12/2016</td>\n",
              "      <td>07:40:00</td>\n",
              "      <td>121.0</td>\n",
              "      <td>109</td>\n",
              "      <td>GRAND LARCENY</td>\n",
              "      <td>417.0</td>\n",
              "      <td>LARCENY,GRAND FROM PERSON,PURS</td>\n",
              "      <td>COMPLETED</td>\n",
              "      <td>FELONY</td>\n",
              "      <td>STATEN ISLAND</td>\n",
              "      <td>STREET</td>\n",
              "      <td>N.Y. POLICE DEPT</td>\n",
              "      <td>0.0</td>\n",
              "      <td>UNKNOWN</td>\n",
              "      <td>BLACK</td>\n",
              "      <td>U</td>\n",
              "      <td>40.636991</td>\n",
              "      <td>-74.134093</td>\n",
              "      <td>PATROL BORO STATEN ISLAND</td>\n",
              "      <td>45-64</td>\n",
              "      <td>WHITE HISPANIC</td>\n",
              "      <td>F</td>\n",
              "      <td>2016-10-12 07:40:00</td>\n",
              "      <td>2016</td>\n",
              "      <td>10</td>\n",
              "      <td>12</td>\n",
              "      <td>7</td>\n",
              "    </tr>\n",
              "    <tr>\n",
              "      <th>2</th>\n",
              "      <td>720151206</td>\n",
              "      <td>09/28/2012</td>\n",
              "      <td>13:30:00</td>\n",
              "      <td>41.0</td>\n",
              "      <td>109</td>\n",
              "      <td>GRAND LARCENY</td>\n",
              "      <td>413.0</td>\n",
              "      <td>LARCENY,GRAND BY FALSE PROMISE</td>\n",
              "      <td>COMPLETED</td>\n",
              "      <td>FELONY</td>\n",
              "      <td>BRONX</td>\n",
              "      <td>STREET</td>\n",
              "      <td>N.Y. POLICE DEPT</td>\n",
              "      <td>0.0</td>\n",
              "      <td>NaN</td>\n",
              "      <td>WHITE HISPANIC</td>\n",
              "      <td>M</td>\n",
              "      <td>40.823876</td>\n",
              "      <td>-73.891863</td>\n",
              "      <td>PATROL BORO BRONX</td>\n",
              "      <td>45-64</td>\n",
              "      <td>WHITE HISPANIC</td>\n",
              "      <td>F</td>\n",
              "      <td>2012-09-28 13:30:00</td>\n",
              "      <td>2012</td>\n",
              "      <td>9</td>\n",
              "      <td>28</td>\n",
              "      <td>13</td>\n",
              "    </tr>\n",
              "    <tr>\n",
              "      <th>3</th>\n",
              "      <td>232242098</td>\n",
              "      <td>03/24/2015</td>\n",
              "      <td>15:45:00</td>\n",
              "      <td>46.0</td>\n",
              "      <td>341</td>\n",
              "      <td>PETIT LARCENY</td>\n",
              "      <td>339.0</td>\n",
              "      <td>LARCENY,PETIT FROM OPEN AREAS,</td>\n",
              "      <td>COMPLETED</td>\n",
              "      <td>MISDEMEANOR</td>\n",
              "      <td>BRONX</td>\n",
              "      <td>STREET</td>\n",
              "      <td>N.Y. POLICE DEPT</td>\n",
              "      <td>0.0</td>\n",
              "      <td>NaN</td>\n",
              "      <td>BLACK</td>\n",
              "      <td>M</td>\n",
              "      <td>40.845707</td>\n",
              "      <td>-73.910398</td>\n",
              "      <td>PATROL BORO BRONX</td>\n",
              "      <td>&lt;18</td>\n",
              "      <td>WHITE HISPANIC</td>\n",
              "      <td>F</td>\n",
              "      <td>2015-03-24 15:45:00</td>\n",
              "      <td>2015</td>\n",
              "      <td>3</td>\n",
              "      <td>24</td>\n",
              "      <td>15</td>\n",
              "    </tr>\n",
              "    <tr>\n",
              "      <th>4</th>\n",
              "      <td>708078702</td>\n",
              "      <td>05/20/2017</td>\n",
              "      <td>04:02:00</td>\n",
              "      <td>109.0</td>\n",
              "      <td>344</td>\n",
              "      <td>ASSAULT 3 &amp; RELATED OFFENSES</td>\n",
              "      <td>101.0</td>\n",
              "      <td>ASSAULT 3</td>\n",
              "      <td>COMPLETED</td>\n",
              "      <td>MISDEMEANOR</td>\n",
              "      <td>QUEENS</td>\n",
              "      <td>STREET</td>\n",
              "      <td>N.Y. POLICE DEPT</td>\n",
              "      <td>0.0</td>\n",
              "      <td>25-44</td>\n",
              "      <td>WHITE HISPANIC</td>\n",
              "      <td>M</td>\n",
              "      <td>40.763992</td>\n",
              "      <td>-73.828426</td>\n",
              "      <td>PATROL BORO QUEENS NORTH</td>\n",
              "      <td>25-44</td>\n",
              "      <td>BLACK</td>\n",
              "      <td>M</td>\n",
              "      <td>2017-05-20 04:02:00</td>\n",
              "      <td>2017</td>\n",
              "      <td>5</td>\n",
              "      <td>20</td>\n",
              "      <td>4</td>\n",
              "    </tr>\n",
              "  </tbody>\n",
              "</table>\n",
              "</div>\n",
              "      <button class=\"colab-df-convert\" onclick=\"convertToInteractive('df-5ba00ef7-af1d-4c00-a360-ee27488ec65c')\"\n",
              "              title=\"Convert this dataframe to an interactive table.\"\n",
              "              style=\"display:none;\">\n",
              "        \n",
              "  <svg xmlns=\"http://www.w3.org/2000/svg\" height=\"24px\"viewBox=\"0 0 24 24\"\n",
              "       width=\"24px\">\n",
              "    <path d=\"M0 0h24v24H0V0z\" fill=\"none\"/>\n",
              "    <path d=\"M18.56 5.44l.94 2.06.94-2.06 2.06-.94-2.06-.94-.94-2.06-.94 2.06-2.06.94zm-11 1L8.5 8.5l.94-2.06 2.06-.94-2.06-.94L8.5 2.5l-.94 2.06-2.06.94zm10 10l.94 2.06.94-2.06 2.06-.94-2.06-.94-.94-2.06-.94 2.06-2.06.94z\"/><path d=\"M17.41 7.96l-1.37-1.37c-.4-.4-.92-.59-1.43-.59-.52 0-1.04.2-1.43.59L10.3 9.45l-7.72 7.72c-.78.78-.78 2.05 0 2.83L4 21.41c.39.39.9.59 1.41.59.51 0 1.02-.2 1.41-.59l7.78-7.78 2.81-2.81c.8-.78.8-2.07 0-2.86zM5.41 20L4 18.59l7.72-7.72 1.47 1.35L5.41 20z\"/>\n",
              "  </svg>\n",
              "      </button>\n",
              "      \n",
              "  <style>\n",
              "    .colab-df-container {\n",
              "      display:flex;\n",
              "      flex-wrap:wrap;\n",
              "      gap: 12px;\n",
              "    }\n",
              "\n",
              "    .colab-df-convert {\n",
              "      background-color: #E8F0FE;\n",
              "      border: none;\n",
              "      border-radius: 50%;\n",
              "      cursor: pointer;\n",
              "      display: none;\n",
              "      fill: #1967D2;\n",
              "      height: 32px;\n",
              "      padding: 0 0 0 0;\n",
              "      width: 32px;\n",
              "    }\n",
              "\n",
              "    .colab-df-convert:hover {\n",
              "      background-color: #E2EBFA;\n",
              "      box-shadow: 0px 1px 2px rgba(60, 64, 67, 0.3), 0px 1px 3px 1px rgba(60, 64, 67, 0.15);\n",
              "      fill: #174EA6;\n",
              "    }\n",
              "\n",
              "    [theme=dark] .colab-df-convert {\n",
              "      background-color: #3B4455;\n",
              "      fill: #D2E3FC;\n",
              "    }\n",
              "\n",
              "    [theme=dark] .colab-df-convert:hover {\n",
              "      background-color: #434B5C;\n",
              "      box-shadow: 0px 1px 3px 1px rgba(0, 0, 0, 0.15);\n",
              "      filter: drop-shadow(0px 1px 2px rgba(0, 0, 0, 0.3));\n",
              "      fill: #FFFFFF;\n",
              "    }\n",
              "  </style>\n",
              "\n",
              "      <script>\n",
              "        const buttonEl =\n",
              "          document.querySelector('#df-5ba00ef7-af1d-4c00-a360-ee27488ec65c button.colab-df-convert');\n",
              "        buttonEl.style.display =\n",
              "          google.colab.kernel.accessAllowed ? 'block' : 'none';\n",
              "\n",
              "        async function convertToInteractive(key) {\n",
              "          const element = document.querySelector('#df-5ba00ef7-af1d-4c00-a360-ee27488ec65c');\n",
              "          const dataTable =\n",
              "            await google.colab.kernel.invokeFunction('convertToInteractive',\n",
              "                                                     [key], {});\n",
              "          if (!dataTable) return;\n",
              "\n",
              "          const docLinkHtml = 'Like what you see? Visit the ' +\n",
              "            '<a target=\"_blank\" href=https://colab.research.google.com/notebooks/data_table.ipynb>data table notebook</a>'\n",
              "            + ' to learn more about interactive tables.';\n",
              "          element.innerHTML = '';\n",
              "          dataTable['output_type'] = 'display_data';\n",
              "          await google.colab.output.renderOutput(dataTable, element);\n",
              "          const docLink = document.createElement('div');\n",
              "          docLink.innerHTML = docLinkHtml;\n",
              "          element.appendChild(docLink);\n",
              "        }\n",
              "      </script>\n",
              "    </div>\n",
              "  </div>\n",
              "  "
            ]
          },
          "metadata": {},
          "execution_count": 27
        }
      ],
      "source": [
        "df.head(5)"
      ]
    },
    {
      "cell_type": "code",
      "execution_count": 28,
      "metadata": {
        "id": "wDwTWEHFmWKb"
      },
      "outputs": [],
      "source": [
        "df.dropna(subset=['CMPLNT_FR_DT'], inplace=True)\n",
        "df.dropna(subset=['CMPLNT_FR_TM'], inplace=True)"
      ]
    },
    {
      "cell_type": "markdown",
      "metadata": {
        "id": "A7jazztZmWKc"
      },
      "source": [
        "### Gender"
      ]
    },
    {
      "cell_type": "code",
      "execution_count": 29,
      "metadata": {
        "id": "wD1JTld3mWKc"
      },
      "outputs": [],
      "source": [
        "df.replace('UNKNOWN', np.NaN, inplace=True)\n",
        "df.replace('E', np.NaN, inplace=True)\n",
        "df.replace('D', np.NaN, inplace=True)\n",
        "df.replace('U', np.NaN, inplace=True)"
      ]
    },
    {
      "cell_type": "code",
      "execution_count": 30,
      "metadata": {
        "id": "JtFfO7GnmWKc"
      },
      "outputs": [],
      "source": [
        "a=df.shape[0]"
      ]
    },
    {
      "cell_type": "code",
      "execution_count": 31,
      "metadata": {
        "colab": {
          "base_uri": "https://localhost:8080/"
        },
        "id": "duYVCxIsmWKc",
        "outputId": "d1591309-099d-4795-a034-a8df55712957"
      },
      "outputs": [
        {
          "output_type": "stream",
          "name": "stdout",
          "text": [
            "Number of rows before removing rows with missing values: 6982505\n",
            "Number of rows after removing rows with missing values: 1165335\n",
            "percentage of data removed:  49.202299174866326 %\n"
          ]
        }
      ],
      "source": [
        "print('Number of rows before removing rows with missing values: ' + str(df.shape[0]))\n",
        "\n",
        "df.dropna(axis=0, inplace=True)\n",
        "print('Number of rows after removing rows with missing values: ' + str(df.shape[0]))\n",
        "print('percentage of data removed: ',(a-3546952)/a*100,'%')"
      ]
    },
    {
      "cell_type": "code",
      "execution_count": 32,
      "metadata": {
        "colab": {
          "base_uri": "https://localhost:8080/"
        },
        "id": "zgpsTnjKmWKd",
        "outputId": "f1941f8a-4d44-4f54-89a8-1b7912211162"
      },
      "outputs": [
        {
          "output_type": "stream",
          "name": "stdout",
          "text": [
            "percentage of data removed:  0.0 %\n"
          ]
        }
      ],
      "source": [
        "print('percentage of data removed: ',((6982505-a)/6982505)*100,'%')"
      ]
    },
    {
      "cell_type": "markdown",
      "metadata": {
        "id": "dZoDwPSHmWKd"
      },
      "source": [
        "### we will start working from the year : 2006"
      ]
    },
    {
      "cell_type": "code",
      "execution_count": 33,
      "metadata": {
        "colab": {
          "base_uri": "https://localhost:8080/"
        },
        "id": "f6PLglVgmWKd",
        "outputId": "7008c3b4-01b5-4d87-9e27-d28c4d017bd9"
      },
      "outputs": [
        {
          "output_type": "execute_result",
          "data": {
            "text/plain": [
              "(54257, 28)"
            ]
          },
          "metadata": {},
          "execution_count": 33
        }
      ],
      "source": [
        "df[df['CMPLNT_FR_YEAR']==2007].shape"
      ]
    },
    {
      "cell_type": "code",
      "execution_count": 34,
      "metadata": {
        "colab": {
          "base_uri": "https://localhost:8080/"
        },
        "id": "-05To1I6mWKd",
        "outputId": "cfa3b1de-06f2-4062-939d-fe46782ea7df"
      },
      "outputs": [
        {
          "output_type": "execute_result",
          "data": {
            "text/plain": [
              "(57673, 28)"
            ]
          },
          "metadata": {},
          "execution_count": 34
        }
      ],
      "source": [
        "df[df['CMPLNT_FR_YEAR']==2006].shape"
      ]
    },
    {
      "cell_type": "code",
      "execution_count": 35,
      "metadata": {
        "colab": {
          "base_uri": "https://localhost:8080/"
        },
        "id": "0OBodibamWKd",
        "outputId": "031c7289-0aa4-4777-d61f-969bd2ead5ae"
      },
      "outputs": [
        {
          "output_type": "execute_result",
          "data": {
            "text/plain": [
              "(1236, 28)"
            ]
          },
          "metadata": {},
          "execution_count": 35
        }
      ],
      "source": [
        "df[df['CMPLNT_FR_YEAR']==2005].shape"
      ]
    },
    {
      "cell_type": "code",
      "execution_count": 36,
      "metadata": {
        "colab": {
          "base_uri": "https://localhost:8080/"
        },
        "id": "6oZcQv7FmWKe",
        "outputId": "e5b59434-d889-443b-e231-3215a2412678"
      },
      "outputs": [
        {
          "output_type": "execute_result",
          "data": {
            "text/plain": [
              "(1236, 28)"
            ]
          },
          "metadata": {},
          "execution_count": 36
        }
      ],
      "source": [
        "df[df['CMPLNT_FR_YEAR']==2005].shape"
      ]
    },
    {
      "cell_type": "code",
      "execution_count": 37,
      "metadata": {
        "id": "Kz4--n_wmWKe"
      },
      "outputs": [],
      "source": [
        "df = df[df['CMPLNT_FR_YEAR'] > 2006]"
      ]
    },
    {
      "cell_type": "code",
      "execution_count": 38,
      "metadata": {
        "colab": {
          "base_uri": "https://localhost:8080/"
        },
        "id": "4xeYvWmCmWKe",
        "outputId": "74d02d7b-9212-46fa-b39e-4b6ae7f8e54c"
      },
      "outputs": [
        {
          "output_type": "execute_result",
          "data": {
            "text/plain": [
              "(1105025, 28)"
            ]
          },
          "metadata": {},
          "execution_count": 38
        }
      ],
      "source": [
        "df.shape"
      ]
    },
    {
      "cell_type": "code",
      "execution_count": 39,
      "metadata": {
        "colab": {
          "base_uri": "https://localhost:8080/"
        },
        "id": "CutS6fbDmWKe",
        "outputId": "78600966-f482-447c-f069-03126921d7fb"
      },
      "outputs": [
        {
          "output_type": "execute_result",
          "data": {
            "text/plain": [
              "array([2017, 2007, 2014, 2016, 2012, 2015, 2013, 2011, 2010, 2008, 2018,\n",
              "       2009, 2019])"
            ]
          },
          "metadata": {},
          "execution_count": 39
        }
      ],
      "source": [
        "df['CMPLNT_FR_YEAR'].unique()"
      ]
    },
    {
      "cell_type": "code",
      "execution_count": 40,
      "metadata": {
        "colab": {
          "base_uri": "https://localhost:8080/"
        },
        "id": "BtVb5NeOmWKe",
        "outputId": "3e835c93-4ac7-4339-a9c5-92e425c33db9"
      },
      "outputs": [
        {
          "output_type": "execute_result",
          "data": {
            "text/plain": [
              "(1105025, 28)"
            ]
          },
          "metadata": {},
          "execution_count": 40
        }
      ],
      "source": [
        "df.shape"
      ]
    },
    {
      "cell_type": "markdown",
      "metadata": {
        "id": "aMRn_CdimWKe"
      },
      "source": [
        "### Data Visualization"
      ]
    },
    {
      "cell_type": "code",
      "execution_count": 41,
      "metadata": {
        "id": "kjI8F2QXmWKf"
      },
      "outputs": [],
      "source": [
        "import seaborn as sns\n",
        "import matplotlib.pyplot as plt"
      ]
    },
    {
      "cell_type": "code",
      "execution_count": 42,
      "metadata": {
        "id": "4ifcM_LUmWKf"
      },
      "outputs": [],
      "source": [
        "%matplotlib inline\n",
        "sns.set_style(\"whitegrid\")"
      ]
    },
    {
      "cell_type": "markdown",
      "metadata": {
        "id": "Q19a7u8amWKf"
      },
      "source": [
        "#### 1/ Victim/Susp Correlation"
      ]
    },
    {
      "cell_type": "code",
      "execution_count": 43,
      "metadata": {
        "id": "xTmqcyLrmWKf"
      },
      "outputs": [],
      "source": [
        "cross_table = df.groupby(['SUSP_RACE', 'VIC_RACE'])['OFNS_DESC'].count()"
      ]
    },
    {
      "cell_type": "code",
      "execution_count": 44,
      "metadata": {
        "id": "RcZsoiBHmWKf"
      },
      "outputs": [],
      "source": [
        "cross_table = cross_table.divide(cross_table.sum(), axis=0).unstack(level=0)"
      ]
    },
    {
      "cell_type": "code",
      "execution_count": 45,
      "metadata": {
        "colab": {
          "base_uri": "https://localhost:8080/",
          "height": 747
        },
        "id": "pU35cOn8mWKf",
        "outputId": "e9465838-627e-4cd7-f75e-8418d512bf80"
      },
      "outputs": [
        {
          "output_type": "execute_result",
          "data": {
            "text/plain": [
              "<matplotlib.axes._subplots.AxesSubplot at 0x7fa5e8d85130>"
            ]
          },
          "metadata": {},
          "execution_count": 45
        },
        {
          "output_type": "display_data",
          "data": {
            "text/plain": [
              "<Figure size 720x720 with 2 Axes>"
            ],
            "image/png": "[encoded data removed]"
          },
          "metadata": {}
        }
      ],
      "source": [
        "fig, ax = plt.subplots(1, 1, figsize=(10, 10))\n",
        "sns.heatmap(cross_table, cmap='RdBu_r', ax=ax,square=True,vmin=0, vmax=0.666,annot=True,fmt='.3f',)"
      ]
    },
    {
      "cell_type": "markdown",
      "metadata": {
        "id": "LXoDL07KmWKf"
      },
      "source": [
        "#### 2/ Crimes per Year"
      ]
    },
    {
      "cell_type": "code",
      "execution_count": 46,
      "metadata": {
        "colab": {
          "base_uri": "https://localhost:8080/",
          "height": 299
        },
        "id": "g9Mu_y-hmWKg",
        "outputId": "7a32fc6c-d13c-4fe4-981d-96198bb549f1"
      },
      "outputs": [
        {
          "output_type": "execute_result",
          "data": {
            "text/plain": [
              "<matplotlib.axes._subplots.AxesSubplot at 0x7fa623e3b3a0>"
            ]
          },
          "metadata": {},
          "execution_count": 46
        },
        {
          "output_type": "display_data",
          "data": {
            "text/plain": [
              "<Figure size 432x288 with 1 Axes>"
            ],
            "image/png": "[encoded data removed]"
          },
          "metadata": {}
        }
      ],
      "source": [
        "sns.countplot(x='CMPLNT_FR_YEAR', data=df)"
      ]
    },
    {
      "cell_type": "code",
      "execution_count": 47,
      "metadata": {
        "colab": {
          "base_uri": "https://localhost:8080/"
        },
        "id": "ulKSsrWrmWKg",
        "outputId": "c663e1c9-9ca3-4cb9-ffe4-54ff97b006fc"
      },
      "outputs": [
        {
          "output_type": "execute_result",
          "data": {
            "text/plain": [
              "array(['MISDEMEANOR', 'FELONY', 'VIOLATION'], dtype=object)"
            ]
          },
          "metadata": {},
          "execution_count": 47
        }
      ],
      "source": [
        "pd.unique(df.LAW_CAT_CD)"
      ]
    },
    {
      "cell_type": "markdown",
      "metadata": {
        "id": "eSVcnvGmmWKg"
      },
      "source": [
        "#### 3/ Felonies per Year"
      ]
    },
    {
      "cell_type": "code",
      "execution_count": 48,
      "metadata": {
        "colab": {
          "base_uri": "https://localhost:8080/",
          "height": 299
        },
        "id": "Pu3B-Ux1mWKg",
        "outputId": "354f9242-6681-487b-8aa5-09c27a057bd4"
      },
      "outputs": [
        {
          "output_type": "execute_result",
          "data": {
            "text/plain": [
              "<matplotlib.axes._subplots.AxesSubplot at 0x7fa623ef2280>"
            ]
          },
          "metadata": {},
          "execution_count": 48
        },
        {
          "output_type": "display_data",
          "data": {
            "text/plain": [
              "<Figure size 432x288 with 1 Axes>"
            ],
            "image/png": "[encoded data removed]"
          },
          "metadata": {}
        }
      ],
      "source": [
        "sns.countplot(x='CMPLNT_FR_YEAR', data=df[df['LAW_CAT_CD'] == 'FELONY'])"
      ]
    },
    {
      "cell_type": "markdown",
      "metadata": {
        "id": "jFJ7eQCZmWKg"
      },
      "source": [
        "#### 4/ Violations per Year"
      ]
    },
    {
      "cell_type": "code",
      "execution_count": 49,
      "metadata": {
        "colab": {
          "base_uri": "https://localhost:8080/",
          "height": 299
        },
        "id": "eHMG6Gc-mWKg",
        "outputId": "a09303b4-ba26-4810-bc03-52e1f4aa1782"
      },
      "outputs": [
        {
          "output_type": "execute_result",
          "data": {
            "text/plain": [
              "<matplotlib.axes._subplots.AxesSubplot at 0x7fa623ff6250>"
            ]
          },
          "metadata": {},
          "execution_count": 49
        },
        {
          "output_type": "display_data",
          "data": {
            "text/plain": [
              "<Figure size 432x288 with 1 Axes>"
            ],
            "image/png": "[encoded data removed]"
          },
          "metadata": {}
        }
      ],
      "source": [
        "sns.countplot(x='CMPLNT_FR_YEAR', data=df[df['LAW_CAT_CD'] == 'VIOLATION'])"
      ]
    },
    {
      "cell_type": "markdown",
      "metadata": {
        "id": "x-3yCJfdmWKg"
      },
      "source": [
        "#### 5/ Misdemeanors per Year"
      ]
    },
    {
      "cell_type": "code",
      "execution_count": null,
      "metadata": {
        "id": "vzzeLDrQmWKh",
        "outputId": "4963b716-7850-4543-cbff-6ba4b9ad1777"
      },
      "outputs": [
        {
          "data": {
            "text/plain": [
              "<AxesSubplot:xlabel='CMPLNT_FR_YEAR', ylabel='count'>"
            ]
          },
          "execution_count": 114,
          "metadata": {},
          "output_type": "execute_result"
        },
        {
          "data": {
            "image/png": "[encoded data removed]",
            "text/plain": [
              "<Figure size 432x288 with 1 Axes>"
            ]
          },
          "metadata": {},
          "output_type": "display_data"
        }
      ],
      "source": [
        "sns.countplot(x='CMPLNT_FR_YEAR', data=df[df['LAW_CAT_CD'] == 'MISDEMEANOR'])"
      ]
    },
    {
      "cell_type": "markdown",
      "metadata": {
        "id": "IEHlMrW6mWKh"
      },
      "source": [
        "#### 6/ Correlation from year 2017 (for more recent information) "
      ]
    },
    {
      "cell_type": "code",
      "execution_count": 50,
      "metadata": {
        "id": "Z9aG1gTlmWKh"
      },
      "outputs": [],
      "source": [
        "df = df[df['CMPLNT_FR_YEAR'] > 2017]"
      ]
    },
    {
      "cell_type": "code",
      "execution_count": 51,
      "metadata": {
        "colab": {
          "base_uri": "https://localhost:8080/",
          "height": 1000
        },
        "id": "5eAlq8LEmWKh",
        "outputId": "ca65cb24-793c-46bc-bc58-109265b600bf"
      },
      "outputs": [
        {
          "output_type": "display_data",
          "data": {
            "text/plain": [
              "<Figure size 2880x2880 with 2 Axes>"
            ],
            "image/png": "[encoded data removed]"
          },
          "metadata": {}
        }
      ],
      "source": [
        "corr = df.apply(lambda x : pd.factorize(x)[0]).corr()\n",
        "plt.figure(figsize = (40,40))\n",
        "sns_plot = sns.heatmap(corr, cmap = \"coolwarm\", linewidth = 2, linecolor = \"white\", annot=True,vmin=-1, vmax=1, center=0, square=True)\n",
        "plt.savefig(\"corr.png\")"
      ]
    },
    {
      "cell_type": "markdown",
      "metadata": {
        "id": "kwzq1pckmWKh"
      },
      "source": [
        "#### 7/ Plotting crime rates per borough"
      ]
    },
    {
      "cell_type": "code",
      "execution_count": 52,
      "metadata": {
        "colab": {
          "base_uri": "https://localhost:8080/",
          "height": 403
        },
        "id": "WeuK_E8YmWKh",
        "outputId": "47624b7b-d172-4fe4-b82a-045957f188e0"
      },
      "outputs": [
        {
          "output_type": "execute_result",
          "data": {
            "text/plain": [
              "Text(0.5, 1.0, 'Crime Rate in NYC (per Borough)')"
            ]
          },
          "metadata": {},
          "execution_count": 52
        },
        {
          "output_type": "display_data",
          "data": {
            "text/plain": [
              "<Figure size 473.5x360 with 1 Axes>"
            ],
            "image/png": "[encoded data removed]"
          },
          "metadata": {}
        }
      ],
      "source": [
        "# plotting crime rates per borough\n",
        "df_borough = df.groupby(['CMPLNT_FR_MONTH','BORO_NM'])[['CMPLNT_NUM']].count().reset_index()\n",
        "\n",
        "g = sns.lmplot(x='CMPLNT_FR_MONTH',y='CMPLNT_NUM',data=df_borough, hue='BORO_NM', palette='YlGnBu')\n",
        "g = (g.set_axis_labels(\"Month\",\"Number of Crimes\"));\n",
        "plt.title(\"Crime Rate in NYC (per Borough)\")\n"
      ]
    },
    {
      "cell_type": "code",
      "execution_count": 53,
      "metadata": {
        "colab": {
          "base_uri": "https://localhost:8080/",
          "height": 354
        },
        "id": "DfuJlSvhmWKh",
        "outputId": "16926671-3ee6-40da-d7ae-dc7538a5396e"
      },
      "outputs": [
        {
          "output_type": "stream",
          "name": "stderr",
          "text": [
            "/usr/local/lib/python3.8/dist-packages/seaborn/_decorators.py:36: FutureWarning: Pass the following variable as a keyword arg: x. From version 0.12, the only valid positional argument will be `data`, and passing other arguments without an explicit keyword will result in an error or misinterpretation.\n",
            "  warnings.warn(\n"
          ]
        },
        {
          "output_type": "execute_result",
          "data": {
            "text/plain": [
              "<matplotlib.axes._subplots.AxesSubplot at 0x7fa6244b1640>"
            ]
          },
          "metadata": {},
          "execution_count": 53
        },
        {
          "output_type": "display_data",
          "data": {
            "text/plain": [
              "<Figure size 432x288 with 1 Axes>"
            ],
            "image/png": "[encoded data removed]"
          },
          "metadata": {}
        }
      ],
      "source": [
        "sns.countplot(df['VIC_SEX'])"
      ]
    },
    {
      "cell_type": "markdown",
      "metadata": {
        "id": "P98pjaVymWKi"
      },
      "source": [
        "### Data Modeling "
      ]
    },
    {
      "cell_type": "code",
      "execution_count": 54,
      "metadata": {
        "colab": {
          "base_uri": "https://localhost:8080/"
        },
        "id": "LDJSiNcJmWKi",
        "outputId": "f42cb75f-6030-49f0-cfde-1439be3c635b"
      },
      "outputs": [
        {
          "output_type": "execute_result",
          "data": {
            "text/plain": [
              "Index(['CMPLNT_NUM', 'CMPLNT_FR_DT', 'CMPLNT_FR_TM', 'ADDR_PCT_CD', 'KY_CD',\n",
              "       'OFNS_DESC', 'PD_CD', 'PD_DESC', 'CRM_ATPT_CPTD_CD', 'LAW_CAT_CD',\n",
              "       'BORO_NM', 'PREM_TYP_DESC', 'JURIS_DESC', 'JURISDICTION_CODE',\n",
              "       'SUSP_AGE_GROUP', 'SUSP_RACE', 'SUSP_SEX', 'Latitude', 'Longitude',\n",
              "       'PATROL_BORO', 'VIC_AGE_GROUP', 'VIC_RACE', 'VIC_SEX',\n",
              "       'CMPLNT_FR_DT_TM', 'CMPLNT_FR_YEAR', 'CMPLNT_FR_MONTH', 'CMPLNT_FR_DAY',\n",
              "       'CMPLNT_FR_HOUR'],\n",
              "      dtype='object')"
            ]
          },
          "metadata": {},
          "execution_count": 54
        }
      ],
      "source": [
        "df.columns"
      ]
    },
    {
      "cell_type": "code",
      "execution_count": null,
      "metadata": {
        "id": "PKIWiDUHmWKi"
      },
      "outputs": [],
      "source": [
        "df1 = df.copy()"
      ]
    },
    {
      "cell_type": "code",
      "execution_count": 55,
      "metadata": {
        "id": "CoZ2GafOmWKi"
      },
      "outputs": [],
      "source": [
        "columns_remove = ['CMPLNT_NUM', 'CMPLNT_FR_DT', 'CMPLNT_FR_TM', 'ADDR_PCT_CD', \n",
        "       'OFNS_DESC', 'PD_CD', 'PD_DESC', 'CRM_ATPT_CPTD_CD', 'LAW_CAT_CD',\n",
        "       'BORO_NM', 'PREM_TYP_DESC', 'JURIS_DESC', 'JURISDICTION_CODE',\n",
        "       'SUSP_AGE_GROUP', 'SUSP_RACE', 'SUSP_SEX','CMPLNT_FR_DT_TM',\n",
        "       'PATROL_BORO', 'VIC_RACE',]\n",
        "df = df.drop(columns_remove, axis=1)"
      ]
    },
    {
      "cell_type": "code",
      "execution_count": 56,
      "metadata": {
        "colab": {
          "base_uri": "https://localhost:8080/",
          "height": 424
        },
        "id": "VYgOGP-HmWKi",
        "outputId": "a71ae6db-684e-400a-c588-af63107f254c"
      },
      "outputs": [
        {
          "output_type": "execute_result",
          "data": {
            "text/plain": [
              "         KY_CD   Latitude  Longitude VIC_AGE_GROUP VIC_SEX  CMPLNT_FR_YEAR  \\\n",
              "9244       106  40.705543 -73.942910         25-44       M            2018   \n",
              "10423      361  40.890181 -73.857472         25-44       M            2018   \n",
              "14106      104  40.887451 -73.847608           <18       F            2018   \n",
              "14799      104  40.648650 -73.950336           <18       F            2018   \n",
              "17633      578  40.768524 -73.987138         45-64       M            2018   \n",
              "...        ...        ...        ...           ...     ...             ...   \n",
              "4570508    578  40.728448 -73.796781         25-44       F            2018   \n",
              "4570518    578  40.786459 -73.849572         25-44       F            2018   \n",
              "4570525    578  40.743910 -73.916652         25-44       F            2018   \n",
              "4570528    361  40.736092 -73.985149         45-64       M            2018   \n",
              "4570533    578  40.727503 -73.807936         25-44       M            2018   \n",
              "\n",
              "         CMPLNT_FR_MONTH  CMPLNT_FR_DAY  CMPLNT_FR_HOUR  \n",
              "9244                  10             31              21  \n",
              "10423                  1              1               6  \n",
              "14106                  7             10               0  \n",
              "14799                 11             29               0  \n",
              "17633                  2             21              13  \n",
              "...                  ...            ...             ...  \n",
              "4570508               12             31              21  \n",
              "4570518               12             17              20  \n",
              "4570525                9             21              12  \n",
              "4570528                2             25               6  \n",
              "4570533                9             15              15  \n",
              "\n",
              "[269794 rows x 9 columns]"
            ],
            "text/html": [
              "\n",
              "  <div id=\"df-f32cf51c-7413-4a04-ba48-e242bfdab3ca\">\n",
              "    <div class=\"colab-df-container\">\n",
              "      <div>\n",
              "<style scoped>\n",
              "    .dataframe tbody tr th:only-of-type {\n",
              "        vertical-align: middle;\n",
              "    }\n",
              "\n",
              "    .dataframe tbody tr th {\n",
              "        vertical-align: top;\n",
              "    }\n",
              "\n",
              "    .dataframe thead th {\n",
              "        text-align: right;\n",
              "    }\n",
              "</style>\n",
              "<table border=\"1\" class=\"dataframe\">\n",
              "  <thead>\n",
              "    <tr style=\"text-align: right;\">\n",
              "      <th></th>\n",
              "      <th>KY_CD</th>\n",
              "      <th>Latitude</th>\n",
              "      <th>Longitude</th>\n",
              "      <th>VIC_AGE_GROUP</th>\n",
              "      <th>VIC_SEX</th>\n",
              "      <th>CMPLNT_FR_YEAR</th>\n",
              "      <th>CMPLNT_FR_MONTH</th>\n",
              "      <th>CMPLNT_FR_DAY</th>\n",
              "      <th>CMPLNT_FR_HOUR</th>\n",
              "    </tr>\n",
              "  </thead>\n",
              "  <tbody>\n",
              "    <tr>\n",
              "      <th>9244</th>\n",
              "      <td>106</td>\n",
              "      <td>40.705543</td>\n",
              "      <td>-73.942910</td>\n",
              "      <td>25-44</td>\n",
              "      <td>M</td>\n",
              "      <td>2018</td>\n",
              "      <td>10</td>\n",
              "      <td>31</td>\n",
              "      <td>21</td>\n",
              "    </tr>\n",
              "    <tr>\n",
              "      <th>10423</th>\n",
              "      <td>361</td>\n",
              "      <td>40.890181</td>\n",
              "      <td>-73.857472</td>\n",
              "      <td>25-44</td>\n",
              "      <td>M</td>\n",
              "      <td>2018</td>\n",
              "      <td>1</td>\n",
              "      <td>1</td>\n",
              "      <td>6</td>\n",
              "    </tr>\n",
              "    <tr>\n",
              "      <th>14106</th>\n",
              "      <td>104</td>\n",
              "      <td>40.887451</td>\n",
              "      <td>-73.847608</td>\n",
              "      <td>&lt;18</td>\n",
              "      <td>F</td>\n",
              "      <td>2018</td>\n",
              "      <td>7</td>\n",
              "      <td>10</td>\n",
              "      <td>0</td>\n",
              "    </tr>\n",
              "    <tr>\n",
              "      <th>14799</th>\n",
              "      <td>104</td>\n",
              "      <td>40.648650</td>\n",
              "      <td>-73.950336</td>\n",
              "      <td>&lt;18</td>\n",
              "      <td>F</td>\n",
              "      <td>2018</td>\n",
              "      <td>11</td>\n",
              "      <td>29</td>\n",
              "      <td>0</td>\n",
              "    </tr>\n",
              "    <tr>\n",
              "      <th>17633</th>\n",
              "      <td>578</td>\n",
              "      <td>40.768524</td>\n",
              "      <td>-73.987138</td>\n",
              "      <td>45-64</td>\n",
              "      <td>M</td>\n",
              "      <td>2018</td>\n",
              "      <td>2</td>\n",
              "      <td>21</td>\n",
              "      <td>13</td>\n",
              "    </tr>\n",
              "    <tr>\n",
              "      <th>...</th>\n",
              "      <td>...</td>\n",
              "      <td>...</td>\n",
              "      <td>...</td>\n",
              "      <td>...</td>\n",
              "      <td>...</td>\n",
              "      <td>...</td>\n",
              "      <td>...</td>\n",
              "      <td>...</td>\n",
              "      <td>...</td>\n",
              "    </tr>\n",
              "    <tr>\n",
              "      <th>4570508</th>\n",
              "      <td>578</td>\n",
              "      <td>40.728448</td>\n",
              "      <td>-73.796781</td>\n",
              "      <td>25-44</td>\n",
              "      <td>F</td>\n",
              "      <td>2018</td>\n",
              "      <td>12</td>\n",
              "      <td>31</td>\n",
              "      <td>21</td>\n",
              "    </tr>\n",
              "    <tr>\n",
              "      <th>4570518</th>\n",
              "      <td>578</td>\n",
              "      <td>40.786459</td>\n",
              "      <td>-73.849572</td>\n",
              "      <td>25-44</td>\n",
              "      <td>F</td>\n",
              "      <td>2018</td>\n",
              "      <td>12</td>\n",
              "      <td>17</td>\n",
              "      <td>20</td>\n",
              "    </tr>\n",
              "    <tr>\n",
              "      <th>4570525</th>\n",
              "      <td>578</td>\n",
              "      <td>40.743910</td>\n",
              "      <td>-73.916652</td>\n",
              "      <td>25-44</td>\n",
              "      <td>F</td>\n",
              "      <td>2018</td>\n",
              "      <td>9</td>\n",
              "      <td>21</td>\n",
              "      <td>12</td>\n",
              "    </tr>\n",
              "    <tr>\n",
              "      <th>4570528</th>\n",
              "      <td>361</td>\n",
              "      <td>40.736092</td>\n",
              "      <td>-73.985149</td>\n",
              "      <td>45-64</td>\n",
              "      <td>M</td>\n",
              "      <td>2018</td>\n",
              "      <td>2</td>\n",
              "      <td>25</td>\n",
              "      <td>6</td>\n",
              "    </tr>\n",
              "    <tr>\n",
              "      <th>4570533</th>\n",
              "      <td>578</td>\n",
              "      <td>40.727503</td>\n",
              "      <td>-73.807936</td>\n",
              "      <td>25-44</td>\n",
              "      <td>M</td>\n",
              "      <td>2018</td>\n",
              "      <td>9</td>\n",
              "      <td>15</td>\n",
              "      <td>15</td>\n",
              "    </tr>\n",
              "  </tbody>\n",
              "</table>\n",
              "<p>269794 rows × 9 columns</p>\n",
              "</div>\n",
              "      <button class=\"colab-df-convert\" onclick=\"convertToInteractive('df-f32cf51c-7413-4a04-ba48-e242bfdab3ca')\"\n",
              "              title=\"Convert this dataframe to an interactive table.\"\n",
              "              style=\"display:none;\">\n",
              "        \n",
              "  <svg xmlns=\"http://www.w3.org/2000/svg\" height=\"24px\"viewBox=\"0 0 24 24\"\n",
              "       width=\"24px\">\n",
              "    <path d=\"M0 0h24v24H0V0z\" fill=\"none\"/>\n",
              "    <path d=\"M18.56 5.44l.94 2.06.94-2.06 2.06-.94-2.06-.94-.94-2.06-.94 2.06-2.06.94zm-11 1L8.5 8.5l.94-2.06 2.06-.94-2.06-.94L8.5 2.5l-.94 2.06-2.06.94zm10 10l.94 2.06.94-2.06 2.06-.94-2.06-.94-.94-2.06-.94 2.06-2.06.94z\"/><path d=\"M17.41 7.96l-1.37-1.37c-.4-.4-.92-.59-1.43-.59-.52 0-1.04.2-1.43.59L10.3 9.45l-7.72 7.72c-.78.78-.78 2.05 0 2.83L4 21.41c.39.39.9.59 1.41.59.51 0 1.02-.2 1.41-.59l7.78-7.78 2.81-2.81c.8-.78.8-2.07 0-2.86zM5.41 20L4 18.59l7.72-7.72 1.47 1.35L5.41 20z\"/>\n",
              "  </svg>\n",
              "      </button>\n",
              "      \n",
              "  <style>\n",
              "    .colab-df-container {\n",
              "      display:flex;\n",
              "      flex-wrap:wrap;\n",
              "      gap: 12px;\n",
              "    }\n",
              "\n",
              "    .colab-df-convert {\n",
              "      background-color: #E8F0FE;\n",
              "      border: none;\n",
              "      border-radius: 50%;\n",
              "      cursor: pointer;\n",
              "      display: none;\n",
              "      fill: #1967D2;\n",
              "      height: 32px;\n",
              "      padding: 0 0 0 0;\n",
              "      width: 32px;\n",
              "    }\n",
              "\n",
              "    .colab-df-convert:hover {\n",
              "      background-color: #E2EBFA;\n",
              "      box-shadow: 0px 1px 2px rgba(60, 64, 67, 0.3), 0px 1px 3px 1px rgba(60, 64, 67, 0.15);\n",
              "      fill: #174EA6;\n",
              "    }\n",
              "\n",
              "    [theme=dark] .colab-df-convert {\n",
              "      background-color: #3B4455;\n",
              "      fill: #D2E3FC;\n",
              "    }\n",
              "\n",
              "    [theme=dark] .colab-df-convert:hover {\n",
              "      background-color: #434B5C;\n",
              "      box-shadow: 0px 1px 3px 1px rgba(0, 0, 0, 0.15);\n",
              "      filter: drop-shadow(0px 1px 2px rgba(0, 0, 0, 0.3));\n",
              "      fill: #FFFFFF;\n",
              "    }\n",
              "  </style>\n",
              "\n",
              "      <script>\n",
              "        const buttonEl =\n",
              "          document.querySelector('#df-f32cf51c-7413-4a04-ba48-e242bfdab3ca button.colab-df-convert');\n",
              "        buttonEl.style.display =\n",
              "          google.colab.kernel.accessAllowed ? 'block' : 'none';\n",
              "\n",
              "        async function convertToInteractive(key) {\n",
              "          const element = document.querySelector('#df-f32cf51c-7413-4a04-ba48-e242bfdab3ca');\n",
              "          const dataTable =\n",
              "            await google.colab.kernel.invokeFunction('convertToInteractive',\n",
              "                                                     [key], {});\n",
              "          if (!dataTable) return;\n",
              "\n",
              "          const docLinkHtml = 'Like what you see? Visit the ' +\n",
              "            '<a target=\"_blank\" href=https://colab.research.google.com/notebooks/data_table.ipynb>data table notebook</a>'\n",
              "            + ' to learn more about interactive tables.';\n",
              "          element.innerHTML = '';\n",
              "          dataTable['output_type'] = 'display_data';\n",
              "          await google.colab.output.renderOutput(dataTable, element);\n",
              "          const docLink = document.createElement('div');\n",
              "          docLink.innerHTML = docLinkHtml;\n",
              "          element.appendChild(docLink);\n",
              "        }\n",
              "      </script>\n",
              "    </div>\n",
              "  </div>\n",
              "  "
            ]
          },
          "metadata": {},
          "execution_count": 56
        }
      ],
      "source": [
        "df"
      ]
    },
    {
      "cell_type": "code",
      "execution_count": 57,
      "metadata": {
        "id": "gLm0T5FumWKi"
      },
      "outputs": [],
      "source": [
        "def ky_cat(ky_cd):\n",
        "    if ky_cd in [101,102,103]:\n",
        "        return \"killing crimes\"\n",
        "    elif ky_cd in [104,115,116,233,234,356,460]:\n",
        "        return \"sexual crimes\"\n",
        "    elif ky_cd in [105,107,109,110,111,112,113,231,238,340,341,342,343,358]:\n",
        "        return \"thift\"\n",
        "    elif ky_cd in [106,114,124,344]:\n",
        "        return \"other types of violent\"\n",
        "    elif ky_cd in [117,118,119,232,235,236,346,347,577]:\n",
        "        return \"drugs\"\n",
        "    elif ky_cd in [120, 121, 125, 126, 345, 345, 348, 349, 351, 352, 353, 354, 355, 357, 359, 360, 361, 362, 363, 364, 364, 364, 365, 366, 455, 571, 572, 578, 672, 675, 676, 677, 677, 678, 685, 881] :\n",
        "        return \"other\"\n",
        "df['KY_CD'] = df['KY_CD'].map(lambda x: ky_cat(x))"
      ]
    },
    {
      "cell_type": "code",
      "execution_count": 59,
      "metadata": {
        "colab": {
          "base_uri": "https://localhost:8080/",
          "height": 206
        },
        "id": "yL2wYEs5mWKj",
        "outputId": "fe34a5b0-62ae-40cf-eb2c-d33b1ddbb631"
      },
      "outputs": [
        {
          "output_type": "execute_result",
          "data": {
            "text/plain": [
              "                        KY_CD   Latitude  Longitude VIC_AGE_GROUP VIC_SEX  \\\n",
              "9244   other types of violent  40.705543 -73.942910         25-44       M   \n",
              "10423                   other  40.890181 -73.857472         25-44       M   \n",
              "14106           sexual crimes  40.887451 -73.847608           <18       F   \n",
              "14799           sexual crimes  40.648650 -73.950336           <18       F   \n",
              "17633                   other  40.768524 -73.987138         45-64       M   \n",
              "\n",
              "       CMPLNT_FR_YEAR  CMPLNT_FR_MONTH  CMPLNT_FR_DAY  CMPLNT_FR_HOUR  \n",
              "9244             2018               10             31              21  \n",
              "10423            2018                1              1               6  \n",
              "14106            2018                7             10               0  \n",
              "14799            2018               11             29               0  \n",
              "17633            2018                2             21              13  "
            ],
            "text/html": [
              "\n",
              "  <div id=\"df-c823575c-5630-411a-a488-008e7040088e\">\n",
              "    <div class=\"colab-df-container\">\n",
              "      <div>\n",
              "<style scoped>\n",
              "    .dataframe tbody tr th:only-of-type {\n",
              "        vertical-align: middle;\n",
              "    }\n",
              "\n",
              "    .dataframe tbody tr th {\n",
              "        vertical-align: top;\n",
              "    }\n",
              "\n",
              "    .dataframe thead th {\n",
              "        text-align: right;\n",
              "    }\n",
              "</style>\n",
              "<table border=\"1\" class=\"dataframe\">\n",
              "  <thead>\n",
              "    <tr style=\"text-align: right;\">\n",
              "      <th></th>\n",
              "      <th>KY_CD</th>\n",
              "      <th>Latitude</th>\n",
              "      <th>Longitude</th>\n",
              "      <th>VIC_AGE_GROUP</th>\n",
              "      <th>VIC_SEX</th>\n",
              "      <th>CMPLNT_FR_YEAR</th>\n",
              "      <th>CMPLNT_FR_MONTH</th>\n",
              "      <th>CMPLNT_FR_DAY</th>\n",
              "      <th>CMPLNT_FR_HOUR</th>\n",
              "    </tr>\n",
              "  </thead>\n",
              "  <tbody>\n",
              "    <tr>\n",
              "      <th>9244</th>\n",
              "      <td>other types of violent</td>\n",
              "      <td>40.705543</td>\n",
              "      <td>-73.942910</td>\n",
              "      <td>25-44</td>\n",
              "      <td>M</td>\n",
              "      <td>2018</td>\n",
              "      <td>10</td>\n",
              "      <td>31</td>\n",
              "      <td>21</td>\n",
              "    </tr>\n",
              "    <tr>\n",
              "      <th>10423</th>\n",
              "      <td>other</td>\n",
              "      <td>40.890181</td>\n",
              "      <td>-73.857472</td>\n",
              "      <td>25-44</td>\n",
              "      <td>M</td>\n",
              "      <td>2018</td>\n",
              "      <td>1</td>\n",
              "      <td>1</td>\n",
              "      <td>6</td>\n",
              "    </tr>\n",
              "    <tr>\n",
              "      <th>14106</th>\n",
              "      <td>sexual crimes</td>\n",
              "      <td>40.887451</td>\n",
              "      <td>-73.847608</td>\n",
              "      <td>&lt;18</td>\n",
              "      <td>F</td>\n",
              "      <td>2018</td>\n",
              "      <td>7</td>\n",
              "      <td>10</td>\n",
              "      <td>0</td>\n",
              "    </tr>\n",
              "    <tr>\n",
              "      <th>14799</th>\n",
              "      <td>sexual crimes</td>\n",
              "      <td>40.648650</td>\n",
              "      <td>-73.950336</td>\n",
              "      <td>&lt;18</td>\n",
              "      <td>F</td>\n",
              "      <td>2018</td>\n",
              "      <td>11</td>\n",
              "      <td>29</td>\n",
              "      <td>0</td>\n",
              "    </tr>\n",
              "    <tr>\n",
              "      <th>17633</th>\n",
              "      <td>other</td>\n",
              "      <td>40.768524</td>\n",
              "      <td>-73.987138</td>\n",
              "      <td>45-64</td>\n",
              "      <td>M</td>\n",
              "      <td>2018</td>\n",
              "      <td>2</td>\n",
              "      <td>21</td>\n",
              "      <td>13</td>\n",
              "    </tr>\n",
              "  </tbody>\n",
              "</table>\n",
              "</div>\n",
              "      <button class=\"colab-df-convert\" onclick=\"convertToInteractive('df-c823575c-5630-411a-a488-008e7040088e')\"\n",
              "              title=\"Convert this dataframe to an interactive table.\"\n",
              "              style=\"display:none;\">\n",
              "        \n",
              "  <svg xmlns=\"http://www.w3.org/2000/svg\" height=\"24px\"viewBox=\"0 0 24 24\"\n",
              "       width=\"24px\">\n",
              "    <path d=\"M0 0h24v24H0V0z\" fill=\"none\"/>\n",
              "    <path d=\"M18.56 5.44l.94 2.06.94-2.06 2.06-.94-2.06-.94-.94-2.06-.94 2.06-2.06.94zm-11 1L8.5 8.5l.94-2.06 2.06-.94-2.06-.94L8.5 2.5l-.94 2.06-2.06.94zm10 10l.94 2.06.94-2.06 2.06-.94-2.06-.94-.94-2.06-.94 2.06-2.06.94z\"/><path d=\"M17.41 7.96l-1.37-1.37c-.4-.4-.92-.59-1.43-.59-.52 0-1.04.2-1.43.59L10.3 9.45l-7.72 7.72c-.78.78-.78 2.05 0 2.83L4 21.41c.39.39.9.59 1.41.59.51 0 1.02-.2 1.41-.59l7.78-7.78 2.81-2.81c.8-.78.8-2.07 0-2.86zM5.41 20L4 18.59l7.72-7.72 1.47 1.35L5.41 20z\"/>\n",
              "  </svg>\n",
              "      </button>\n",
              "      \n",
              "  <style>\n",
              "    .colab-df-container {\n",
              "      display:flex;\n",
              "      flex-wrap:wrap;\n",
              "      gap: 12px;\n",
              "    }\n",
              "\n",
              "    .colab-df-convert {\n",
              "      background-color: #E8F0FE;\n",
              "      border: none;\n",
              "      border-radius: 50%;\n",
              "      cursor: pointer;\n",
              "      display: none;\n",
              "      fill: #1967D2;\n",
              "      height: 32px;\n",
              "      padding: 0 0 0 0;\n",
              "      width: 32px;\n",
              "    }\n",
              "\n",
              "    .colab-df-convert:hover {\n",
              "      background-color: #E2EBFA;\n",
              "      box-shadow: 0px 1px 2px rgba(60, 64, 67, 0.3), 0px 1px 3px 1px rgba(60, 64, 67, 0.15);\n",
              "      fill: #174EA6;\n",
              "    }\n",
              "\n",
              "    [theme=dark] .colab-df-convert {\n",
              "      background-color: #3B4455;\n",
              "      fill: #D2E3FC;\n",
              "    }\n",
              "\n",
              "    [theme=dark] .colab-df-convert:hover {\n",
              "      background-color: #434B5C;\n",
              "      box-shadow: 0px 1px 3px 1px rgba(0, 0, 0, 0.15);\n",
              "      filter: drop-shadow(0px 1px 2px rgba(0, 0, 0, 0.3));\n",
              "      fill: #FFFFFF;\n",
              "    }\n",
              "  </style>\n",
              "\n",
              "      <script>\n",
              "        const buttonEl =\n",
              "          document.querySelector('#df-c823575c-5630-411a-a488-008e7040088e button.colab-df-convert');\n",
              "        buttonEl.style.display =\n",
              "          google.colab.kernel.accessAllowed ? 'block' : 'none';\n",
              "\n",
              "        async function convertToInteractive(key) {\n",
              "          const element = document.querySelector('#df-c823575c-5630-411a-a488-008e7040088e');\n",
              "          const dataTable =\n",
              "            await google.colab.kernel.invokeFunction('convertToInteractive',\n",
              "                                                     [key], {});\n",
              "          if (!dataTable) return;\n",
              "\n",
              "          const docLinkHtml = 'Like what you see? Visit the ' +\n",
              "            '<a target=\"_blank\" href=https://colab.research.google.com/notebooks/data_table.ipynb>data table notebook</a>'\n",
              "            + ' to learn more about interactive tables.';\n",
              "          element.innerHTML = '';\n",
              "          dataTable['output_type'] = 'display_data';\n",
              "          await google.colab.output.renderOutput(dataTable, element);\n",
              "          const docLink = document.createElement('div');\n",
              "          docLink.innerHTML = docLinkHtml;\n",
              "          element.appendChild(docLink);\n",
              "        }\n",
              "      </script>\n",
              "    </div>\n",
              "  </div>\n",
              "  "
            ]
          },
          "metadata": {},
          "execution_count": 59
        }
      ],
      "source": [
        "df.head()"
      ]
    },
    {
      "cell_type": "code",
      "execution_count": 58,
      "metadata": {
        "id": "TOoF27fcmWKj"
      },
      "outputs": [],
      "source": [
        "dum_df = pd.get_dummies(df, columns=[\"KY_CD\",\"VIC_SEX\"],\n",
        "                        prefix=[\"KY_CD\",\"VIC_SEX\"] )"
      ]
    },
    {
      "cell_type": "code",
      "execution_count": 60,
      "metadata": {
        "colab": {
          "base_uri": "https://localhost:8080/",
          "height": 523
        },
        "id": "u3KMU-cYmWKj",
        "outputId": "75f28193-7efb-49ee-d2ac-bf562da73bac"
      },
      "outputs": [
        {
          "output_type": "execute_result",
          "data": {
            "text/plain": [
              "          Latitude  Longitude VIC_AGE_GROUP  CMPLNT_FR_YEAR  CMPLNT_FR_MONTH  \\\n",
              "9244     40.705543 -73.942910         25-44            2018               10   \n",
              "10423    40.890181 -73.857472         25-44            2018                1   \n",
              "14106    40.887451 -73.847608           <18            2018                7   \n",
              "14799    40.648650 -73.950336           <18            2018               11   \n",
              "17633    40.768524 -73.987138         45-64            2018                2   \n",
              "...            ...        ...           ...             ...              ...   \n",
              "4570508  40.728448 -73.796781         25-44            2018               12   \n",
              "4570518  40.786459 -73.849572         25-44            2018               12   \n",
              "4570525  40.743910 -73.916652         25-44            2018                9   \n",
              "4570528  40.736092 -73.985149         45-64            2018                2   \n",
              "4570533  40.727503 -73.807936         25-44            2018                9   \n",
              "\n",
              "         CMPLNT_FR_DAY  CMPLNT_FR_HOUR  KY_CD_drugs  KY_CD_killing crimes  \\\n",
              "9244                31              21            0                     0   \n",
              "10423                1               6            0                     0   \n",
              "14106               10               0            0                     0   \n",
              "14799               29               0            0                     0   \n",
              "17633               21              13            0                     0   \n",
              "...                ...             ...          ...                   ...   \n",
              "4570508             31              21            0                     0   \n",
              "4570518             17              20            0                     0   \n",
              "4570525             21              12            0                     0   \n",
              "4570528             25               6            0                     0   \n",
              "4570533             15              15            0                     0   \n",
              "\n",
              "         KY_CD_other  KY_CD_other types of violent  KY_CD_sexual crimes  \\\n",
              "9244               0                             1                    0   \n",
              "10423              1                             0                    0   \n",
              "14106              0                             0                    1   \n",
              "14799              0                             0                    1   \n",
              "17633              1                             0                    0   \n",
              "...              ...                           ...                  ...   \n",
              "4570508            1                             0                    0   \n",
              "4570518            1                             0                    0   \n",
              "4570525            1                             0                    0   \n",
              "4570528            1                             0                    0   \n",
              "4570533            1                             0                    0   \n",
              "\n",
              "         KY_CD_thift  VIC_SEX_F  VIC_SEX_M  \n",
              "9244               0          0          1  \n",
              "10423              0          0          1  \n",
              "14106              0          1          0  \n",
              "14799              0          1          0  \n",
              "17633              0          0          1  \n",
              "...              ...        ...        ...  \n",
              "4570508            0          1          0  \n",
              "4570518            0          1          0  \n",
              "4570525            0          1          0  \n",
              "4570528            0          0          1  \n",
              "4570533            0          0          1  \n",
              "\n",
              "[269794 rows x 15 columns]"
            ],
            "text/html": [
              "\n",
              "  <div id=\"df-04e2494f-a3b0-452b-b473-20ca9db683e3\">\n",
              "    <div class=\"colab-df-container\">\n",
              "      <div>\n",
              "<style scoped>\n",
              "    .dataframe tbody tr th:only-of-type {\n",
              "        vertical-align: middle;\n",
              "    }\n",
              "\n",
              "    .dataframe tbody tr th {\n",
              "        vertical-align: top;\n",
              "    }\n",
              "\n",
              "    .dataframe thead th {\n",
              "        text-align: right;\n",
              "    }\n",
              "</style>\n",
              "<table border=\"1\" class=\"dataframe\">\n",
              "  <thead>\n",
              "    <tr style=\"text-align: right;\">\n",
              "      <th></th>\n",
              "      <th>Latitude</th>\n",
              "      <th>Longitude</th>\n",
              "      <th>VIC_AGE_GROUP</th>\n",
              "      <th>CMPLNT_FR_YEAR</th>\n",
              "      <th>CMPLNT_FR_MONTH</th>\n",
              "      <th>CMPLNT_FR_DAY</th>\n",
              "      <th>CMPLNT_FR_HOUR</th>\n",
              "      <th>KY_CD_drugs</th>\n",
              "      <th>KY_CD_killing crimes</th>\n",
              "      <th>KY_CD_other</th>\n",
              "      <th>KY_CD_other types of violent</th>\n",
              "      <th>KY_CD_sexual crimes</th>\n",
              "      <th>KY_CD_thift</th>\n",
              "      <th>VIC_SEX_F</th>\n",
              "      <th>VIC_SEX_M</th>\n",
              "    </tr>\n",
              "  </thead>\n",
              "  <tbody>\n",
              "    <tr>\n",
              "      <th>9244</th>\n",
              "      <td>40.705543</td>\n",
              "      <td>-73.942910</td>\n",
              "      <td>25-44</td>\n",
              "      <td>2018</td>\n",
              "      <td>10</td>\n",
              "      <td>31</td>\n",
              "      <td>21</td>\n",
              "      <td>0</td>\n",
              "      <td>0</td>\n",
              "      <td>0</td>\n",
              "      <td>1</td>\n",
              "      <td>0</td>\n",
              "      <td>0</td>\n",
              "      <td>0</td>\n",
              "      <td>1</td>\n",
              "    </tr>\n",
              "    <tr>\n",
              "      <th>10423</th>\n",
              "      <td>40.890181</td>\n",
              "      <td>-73.857472</td>\n",
              "      <td>25-44</td>\n",
              "      <td>2018</td>\n",
              "      <td>1</td>\n",
              "      <td>1</td>\n",
              "      <td>6</td>\n",
              "      <td>0</td>\n",
              "      <td>0</td>\n",
              "      <td>1</td>\n",
              "      <td>0</td>\n",
              "      <td>0</td>\n",
              "      <td>0</td>\n",
              "      <td>0</td>\n",
              "      <td>1</td>\n",
              "    </tr>\n",
              "    <tr>\n",
              "      <th>14106</th>\n",
              "      <td>40.887451</td>\n",
              "      <td>-73.847608</td>\n",
              "      <td>&lt;18</td>\n",
              "      <td>2018</td>\n",
              "      <td>7</td>\n",
              "      <td>10</td>\n",
              "      <td>0</td>\n",
              "      <td>0</td>\n",
              "      <td>0</td>\n",
              "      <td>0</td>\n",
              "      <td>0</td>\n",
              "      <td>1</td>\n",
              "      <td>0</td>\n",
              "      <td>1</td>\n",
              "      <td>0</td>\n",
              "    </tr>\n",
              "    <tr>\n",
              "      <th>14799</th>\n",
              "      <td>40.648650</td>\n",
              "      <td>-73.950336</td>\n",
              "      <td>&lt;18</td>\n",
              "      <td>2018</td>\n",
              "      <td>11</td>\n",
              "      <td>29</td>\n",
              "      <td>0</td>\n",
              "      <td>0</td>\n",
              "      <td>0</td>\n",
              "      <td>0</td>\n",
              "      <td>0</td>\n",
              "      <td>1</td>\n",
              "      <td>0</td>\n",
              "      <td>1</td>\n",
              "      <td>0</td>\n",
              "    </tr>\n",
              "    <tr>\n",
              "      <th>17633</th>\n",
              "      <td>40.768524</td>\n",
              "      <td>-73.987138</td>\n",
              "      <td>45-64</td>\n",
              "      <td>2018</td>\n",
              "      <td>2</td>\n",
              "      <td>21</td>\n",
              "      <td>13</td>\n",
              "      <td>0</td>\n",
              "      <td>0</td>\n",
              "      <td>1</td>\n",
              "      <td>0</td>\n",
              "      <td>0</td>\n",
              "      <td>0</td>\n",
              "      <td>0</td>\n",
              "      <td>1</td>\n",
              "    </tr>\n",
              "    <tr>\n",
              "      <th>...</th>\n",
              "      <td>...</td>\n",
              "      <td>...</td>\n",
              "      <td>...</td>\n",
              "      <td>...</td>\n",
              "      <td>...</td>\n",
              "      <td>...</td>\n",
              "      <td>...</td>\n",
              "      <td>...</td>\n",
              "      <td>...</td>\n",
              "      <td>...</td>\n",
              "      <td>...</td>\n",
              "      <td>...</td>\n",
              "      <td>...</td>\n",
              "      <td>...</td>\n",
              "      <td>...</td>\n",
              "    </tr>\n",
              "    <tr>\n",
              "      <th>4570508</th>\n",
              "      <td>40.728448</td>\n",
              "      <td>-73.796781</td>\n",
              "      <td>25-44</td>\n",
              "      <td>2018</td>\n",
              "      <td>12</td>\n",
              "      <td>31</td>\n",
              "      <td>21</td>\n",
              "      <td>0</td>\n",
              "      <td>0</td>\n",
              "      <td>1</td>\n",
              "      <td>0</td>\n",
              "      <td>0</td>\n",
              "      <td>0</td>\n",
              "      <td>1</td>\n",
              "      <td>0</td>\n",
              "    </tr>\n",
              "    <tr>\n",
              "      <th>4570518</th>\n",
              "      <td>40.786459</td>\n",
              "      <td>-73.849572</td>\n",
              "      <td>25-44</td>\n",
              "      <td>2018</td>\n",
              "      <td>12</td>\n",
              "      <td>17</td>\n",
              "      <td>20</td>\n",
              "      <td>0</td>\n",
              "      <td>0</td>\n",
              "      <td>1</td>\n",
              "      <td>0</td>\n",
              "      <td>0</td>\n",
              "      <td>0</td>\n",
              "      <td>1</td>\n",
              "      <td>0</td>\n",
              "    </tr>\n",
              "    <tr>\n",
              "      <th>4570525</th>\n",
              "      <td>40.743910</td>\n",
              "      <td>-73.916652</td>\n",
              "      <td>25-44</td>\n",
              "      <td>2018</td>\n",
              "      <td>9</td>\n",
              "      <td>21</td>\n",
              "      <td>12</td>\n",
              "      <td>0</td>\n",
              "      <td>0</td>\n",
              "      <td>1</td>\n",
              "      <td>0</td>\n",
              "      <td>0</td>\n",
              "      <td>0</td>\n",
              "      <td>1</td>\n",
              "      <td>0</td>\n",
              "    </tr>\n",
              "    <tr>\n",
              "      <th>4570528</th>\n",
              "      <td>40.736092</td>\n",
              "      <td>-73.985149</td>\n",
              "      <td>45-64</td>\n",
              "      <td>2018</td>\n",
              "      <td>2</td>\n",
              "      <td>25</td>\n",
              "      <td>6</td>\n",
              "      <td>0</td>\n",
              "      <td>0</td>\n",
              "      <td>1</td>\n",
              "      <td>0</td>\n",
              "      <td>0</td>\n",
              "      <td>0</td>\n",
              "      <td>0</td>\n",
              "      <td>1</td>\n",
              "    </tr>\n",
              "    <tr>\n",
              "      <th>4570533</th>\n",
              "      <td>40.727503</td>\n",
              "      <td>-73.807936</td>\n",
              "      <td>25-44</td>\n",
              "      <td>2018</td>\n",
              "      <td>9</td>\n",
              "      <td>15</td>\n",
              "      <td>15</td>\n",
              "      <td>0</td>\n",
              "      <td>0</td>\n",
              "      <td>1</td>\n",
              "      <td>0</td>\n",
              "      <td>0</td>\n",
              "      <td>0</td>\n",
              "      <td>0</td>\n",
              "      <td>1</td>\n",
              "    </tr>\n",
              "  </tbody>\n",
              "</table>\n",
              "<p>269794 rows × 15 columns</p>\n",
              "</div>\n",
              "      <button class=\"colab-df-convert\" onclick=\"convertToInteractive('df-04e2494f-a3b0-452b-b473-20ca9db683e3')\"\n",
              "              title=\"Convert this dataframe to an interactive table.\"\n",
              "              style=\"display:none;\">\n",
              "        \n",
              "  <svg xmlns=\"http://www.w3.org/2000/svg\" height=\"24px\"viewBox=\"0 0 24 24\"\n",
              "       width=\"24px\">\n",
              "    <path d=\"M0 0h24v24H0V0z\" fill=\"none\"/>\n",
              "    <path d=\"M18.56 5.44l.94 2.06.94-2.06 2.06-.94-2.06-.94-.94-2.06-.94 2.06-2.06.94zm-11 1L8.5 8.5l.94-2.06 2.06-.94-2.06-.94L8.5 2.5l-.94 2.06-2.06.94zm10 10l.94 2.06.94-2.06 2.06-.94-2.06-.94-.94-2.06-.94 2.06-2.06.94z\"/><path d=\"M17.41 7.96l-1.37-1.37c-.4-.4-.92-.59-1.43-.59-.52 0-1.04.2-1.43.59L10.3 9.45l-7.72 7.72c-.78.78-.78 2.05 0 2.83L4 21.41c.39.39.9.59 1.41.59.51 0 1.02-.2 1.41-.59l7.78-7.78 2.81-2.81c.8-.78.8-2.07 0-2.86zM5.41 20L4 18.59l7.72-7.72 1.47 1.35L5.41 20z\"/>\n",
              "  </svg>\n",
              "      </button>\n",
              "      \n",
              "  <style>\n",
              "    .colab-df-container {\n",
              "      display:flex;\n",
              "      flex-wrap:wrap;\n",
              "      gap: 12px;\n",
              "    }\n",
              "\n",
              "    .colab-df-convert {\n",
              "      background-color: #E8F0FE;\n",
              "      border: none;\n",
              "      border-radius: 50%;\n",
              "      cursor: pointer;\n",
              "      display: none;\n",
              "      fill: #1967D2;\n",
              "      height: 32px;\n",
              "      padding: 0 0 0 0;\n",
              "      width: 32px;\n",
              "    }\n",
              "\n",
              "    .colab-df-convert:hover {\n",
              "      background-color: #E2EBFA;\n",
              "      box-shadow: 0px 1px 2px rgba(60, 64, 67, 0.3), 0px 1px 3px 1px rgba(60, 64, 67, 0.15);\n",
              "      fill: #174EA6;\n",
              "    }\n",
              "\n",
              "    [theme=dark] .colab-df-convert {\n",
              "      background-color: #3B4455;\n",
              "      fill: #D2E3FC;\n",
              "    }\n",
              "\n",
              "    [theme=dark] .colab-df-convert:hover {\n",
              "      background-color: #434B5C;\n",
              "      box-shadow: 0px 1px 3px 1px rgba(0, 0, 0, 0.15);\n",
              "      filter: drop-shadow(0px 1px 2px rgba(0, 0, 0, 0.3));\n",
              "      fill: #FFFFFF;\n",
              "    }\n",
              "  </style>\n",
              "\n",
              "      <script>\n",
              "        const buttonEl =\n",
              "          document.querySelector('#df-04e2494f-a3b0-452b-b473-20ca9db683e3 button.colab-df-convert');\n",
              "        buttonEl.style.display =\n",
              "          google.colab.kernel.accessAllowed ? 'block' : 'none';\n",
              "\n",
              "        async function convertToInteractive(key) {\n",
              "          const element = document.querySelector('#df-04e2494f-a3b0-452b-b473-20ca9db683e3');\n",
              "          const dataTable =\n",
              "            await google.colab.kernel.invokeFunction('convertToInteractive',\n",
              "                                                     [key], {});\n",
              "          if (!dataTable) return;\n",
              "\n",
              "          const docLinkHtml = 'Like what you see? Visit the ' +\n",
              "            '<a target=\"_blank\" href=https://colab.research.google.com/notebooks/data_table.ipynb>data table notebook</a>'\n",
              "            + ' to learn more about interactive tables.';\n",
              "          element.innerHTML = '';\n",
              "          dataTable['output_type'] = 'display_data';\n",
              "          await google.colab.output.renderOutput(dataTable, element);\n",
              "          const docLink = document.createElement('div');\n",
              "          docLink.innerHTML = docLinkHtml;\n",
              "          element.appendChild(docLink);\n",
              "        }\n",
              "      </script>\n",
              "    </div>\n",
              "  </div>\n",
              "  "
            ]
          },
          "metadata": {},
          "execution_count": 60
        }
      ],
      "source": [
        "dum_df"
      ]
    },
    {
      "cell_type": "code",
      "execution_count": 61,
      "metadata": {
        "colab": {
          "base_uri": "https://localhost:8080/"
        },
        "id": "pea1frc8mWKk",
        "outputId": "4798ae81-d0d5-4c17-d213-c980aa709bdc"
      },
      "outputs": [
        {
          "output_type": "execute_result",
          "data": {
            "text/plain": [
              "28"
            ]
          },
          "metadata": {},
          "execution_count": 61
        }
      ],
      "source": [
        "dum_df['VIC_AGE_GROUP'].nunique()"
      ]
    },
    {
      "cell_type": "code",
      "execution_count": 62,
      "metadata": {
        "colab": {
          "base_uri": "https://localhost:8080/"
        },
        "id": "WMaa55xwmWKk",
        "outputId": "1246f6a9-3ac8-43b4-9840-d3bf3ef7f451"
      },
      "outputs": [
        {
          "output_type": "execute_result",
          "data": {
            "text/plain": [
              "9244       2\n",
              "10423      2\n",
              "14106      2\n",
              "14799      2\n",
              "17633      2\n",
              "          ..\n",
              "4570508    2\n",
              "4570518    2\n",
              "4570525    2\n",
              "4570528    2\n",
              "4570533    2\n",
              "Name: VIC_AGE_GROUP, Length: 269794, dtype: int64"
            ]
          },
          "metadata": {},
          "execution_count": 62
        }
      ],
      "source": [
        "dum_df['VIC_AGE_GROUP'] = dum_df['VIC_AGE_GROUP'].apply(lambda x: 0 if x=='<=24' else (1 if x=='25-64' else 2))\n",
        "dum_df['VIC_AGE_GROUP']"
      ]
    },
    {
      "cell_type": "code",
      "execution_count": 63,
      "metadata": {
        "colab": {
          "base_uri": "https://localhost:8080/",
          "height": 523
        },
        "id": "5ELYNalsmWKk",
        "outputId": "d0ae011e-ee94-4fa2-bfa3-3c6b60654af2"
      },
      "outputs": [
        {
          "output_type": "execute_result",
          "data": {
            "text/plain": [
              "          Latitude  Longitude  VIC_AGE_GROUP  CMPLNT_FR_YEAR  CMPLNT_FR_MONTH  \\\n",
              "9244     40.705543 -73.942910              2            2018               10   \n",
              "10423    40.890181 -73.857472              2            2018                1   \n",
              "14106    40.887451 -73.847608              2            2018                7   \n",
              "14799    40.648650 -73.950336              2            2018               11   \n",
              "17633    40.768524 -73.987138              2            2018                2   \n",
              "...            ...        ...            ...             ...              ...   \n",
              "4570508  40.728448 -73.796781              2            2018               12   \n",
              "4570518  40.786459 -73.849572              2            2018               12   \n",
              "4570525  40.743910 -73.916652              2            2018                9   \n",
              "4570528  40.736092 -73.985149              2            2018                2   \n",
              "4570533  40.727503 -73.807936              2            2018                9   \n",
              "\n",
              "         CMPLNT_FR_DAY  CMPLNT_FR_HOUR  KY_CD_drugs  KY_CD_killing crimes  \\\n",
              "9244                31              21            0                     0   \n",
              "10423                1               6            0                     0   \n",
              "14106               10               0            0                     0   \n",
              "14799               29               0            0                     0   \n",
              "17633               21              13            0                     0   \n",
              "...                ...             ...          ...                   ...   \n",
              "4570508             31              21            0                     0   \n",
              "4570518             17              20            0                     0   \n",
              "4570525             21              12            0                     0   \n",
              "4570528             25               6            0                     0   \n",
              "4570533             15              15            0                     0   \n",
              "\n",
              "         KY_CD_other  KY_CD_other types of violent  KY_CD_sexual crimes  \\\n",
              "9244               0                             1                    0   \n",
              "10423              1                             0                    0   \n",
              "14106              0                             0                    1   \n",
              "14799              0                             0                    1   \n",
              "17633              1                             0                    0   \n",
              "...              ...                           ...                  ...   \n",
              "4570508            1                             0                    0   \n",
              "4570518            1                             0                    0   \n",
              "4570525            1                             0                    0   \n",
              "4570528            1                             0                    0   \n",
              "4570533            1                             0                    0   \n",
              "\n",
              "         KY_CD_thift  VIC_SEX_F  VIC_SEX_M  \n",
              "9244               0          0          1  \n",
              "10423              0          0          1  \n",
              "14106              0          1          0  \n",
              "14799              0          1          0  \n",
              "17633              0          0          1  \n",
              "...              ...        ...        ...  \n",
              "4570508            0          1          0  \n",
              "4570518            0          1          0  \n",
              "4570525            0          1          0  \n",
              "4570528            0          0          1  \n",
              "4570533            0          0          1  \n",
              "\n",
              "[269794 rows x 15 columns]"
            ],
            "text/html": [
              "\n",
              "  <div id=\"df-2103f25c-4f21-43f1-a463-2c242f23ddb7\">\n",
              "    <div class=\"colab-df-container\">\n",
              "      <div>\n",
              "<style scoped>\n",
              "    .dataframe tbody tr th:only-of-type {\n",
              "        vertical-align: middle;\n",
              "    }\n",
              "\n",
              "    .dataframe tbody tr th {\n",
              "        vertical-align: top;\n",
              "    }\n",
              "\n",
              "    .dataframe thead th {\n",
              "        text-align: right;\n",
              "    }\n",
              "</style>\n",
              "<table border=\"1\" class=\"dataframe\">\n",
              "  <thead>\n",
              "    <tr style=\"text-align: right;\">\n",
              "      <th></th>\n",
              "      <th>Latitude</th>\n",
              "      <th>Longitude</th>\n",
              "      <th>VIC_AGE_GROUP</th>\n",
              "      <th>CMPLNT_FR_YEAR</th>\n",
              "      <th>CMPLNT_FR_MONTH</th>\n",
              "      <th>CMPLNT_FR_DAY</th>\n",
              "      <th>CMPLNT_FR_HOUR</th>\n",
              "      <th>KY_CD_drugs</th>\n",
              "      <th>KY_CD_killing crimes</th>\n",
              "      <th>KY_CD_other</th>\n",
              "      <th>KY_CD_other types of violent</th>\n",
              "      <th>KY_CD_sexual crimes</th>\n",
              "      <th>KY_CD_thift</th>\n",
              "      <th>VIC_SEX_F</th>\n",
              "      <th>VIC_SEX_M</th>\n",
              "    </tr>\n",
              "  </thead>\n",
              "  <tbody>\n",
              "    <tr>\n",
              "      <th>9244</th>\n",
              "      <td>40.705543</td>\n",
              "      <td>-73.942910</td>\n",
              "      <td>2</td>\n",
              "      <td>2018</td>\n",
              "      <td>10</td>\n",
              "      <td>31</td>\n",
              "      <td>21</td>\n",
              "      <td>0</td>\n",
              "      <td>0</td>\n",
              "      <td>0</td>\n",
              "      <td>1</td>\n",
              "      <td>0</td>\n",
              "      <td>0</td>\n",
              "      <td>0</td>\n",
              "      <td>1</td>\n",
              "    </tr>\n",
              "    <tr>\n",
              "      <th>10423</th>\n",
              "      <td>40.890181</td>\n",
              "      <td>-73.857472</td>\n",
              "      <td>2</td>\n",
              "      <td>2018</td>\n",
              "      <td>1</td>\n",
              "      <td>1</td>\n",
              "      <td>6</td>\n",
              "      <td>0</td>\n",
              "      <td>0</td>\n",
              "      <td>1</td>\n",
              "      <td>0</td>\n",
              "      <td>0</td>\n",
              "      <td>0</td>\n",
              "      <td>0</td>\n",
              "      <td>1</td>\n",
              "    </tr>\n",
              "    <tr>\n",
              "      <th>14106</th>\n",
              "      <td>40.887451</td>\n",
              "      <td>-73.847608</td>\n",
              "      <td>2</td>\n",
              "      <td>2018</td>\n",
              "      <td>7</td>\n",
              "      <td>10</td>\n",
              "      <td>0</td>\n",
              "      <td>0</td>\n",
              "      <td>0</td>\n",
              "      <td>0</td>\n",
              "      <td>0</td>\n",
              "      <td>1</td>\n",
              "      <td>0</td>\n",
              "      <td>1</td>\n",
              "      <td>0</td>\n",
              "    </tr>\n",
              "    <tr>\n",
              "      <th>14799</th>\n",
              "      <td>40.648650</td>\n",
              "      <td>-73.950336</td>\n",
              "      <td>2</td>\n",
              "      <td>2018</td>\n",
              "      <td>11</td>\n",
              "      <td>29</td>\n",
              "      <td>0</td>\n",
              "      <td>0</td>\n",
              "      <td>0</td>\n",
              "      <td>0</td>\n",
              "      <td>0</td>\n",
              "      <td>1</td>\n",
              "      <td>0</td>\n",
              "      <td>1</td>\n",
              "      <td>0</td>\n",
              "    </tr>\n",
              "    <tr>\n",
              "      <th>17633</th>\n",
              "      <td>40.768524</td>\n",
              "      <td>-73.987138</td>\n",
              "      <td>2</td>\n",
              "      <td>2018</td>\n",
              "      <td>2</td>\n",
              "      <td>21</td>\n",
              "      <td>13</td>\n",
              "      <td>0</td>\n",
              "      <td>0</td>\n",
              "      <td>1</td>\n",
              "      <td>0</td>\n",
              "      <td>0</td>\n",
              "      <td>0</td>\n",
              "      <td>0</td>\n",
              "      <td>1</td>\n",
              "    </tr>\n",
              "    <tr>\n",
              "      <th>...</th>\n",
              "      <td>...</td>\n",
              "      <td>...</td>\n",
              "      <td>...</td>\n",
              "      <td>...</td>\n",
              "      <td>...</td>\n",
              "      <td>...</td>\n",
              "      <td>...</td>\n",
              "      <td>...</td>\n",
              "      <td>...</td>\n",
              "      <td>...</td>\n",
              "      <td>...</td>\n",
              "      <td>...</td>\n",
              "      <td>...</td>\n",
              "      <td>...</td>\n",
              "      <td>...</td>\n",
              "    </tr>\n",
              "    <tr>\n",
              "      <th>4570508</th>\n",
              "      <td>40.728448</td>\n",
              "      <td>-73.796781</td>\n",
              "      <td>2</td>\n",
              "      <td>2018</td>\n",
              "      <td>12</td>\n",
              "      <td>31</td>\n",
              "      <td>21</td>\n",
              "      <td>0</td>\n",
              "      <td>0</td>\n",
              "      <td>1</td>\n",
              "      <td>0</td>\n",
              "      <td>0</td>\n",
              "      <td>0</td>\n",
              "      <td>1</td>\n",
              "      <td>0</td>\n",
              "    </tr>\n",
              "    <tr>\n",
              "      <th>4570518</th>\n",
              "      <td>40.786459</td>\n",
              "      <td>-73.849572</td>\n",
              "      <td>2</td>\n",
              "      <td>2018</td>\n",
              "      <td>12</td>\n",
              "      <td>17</td>\n",
              "      <td>20</td>\n",
              "      <td>0</td>\n",
              "      <td>0</td>\n",
              "      <td>1</td>\n",
              "      <td>0</td>\n",
              "      <td>0</td>\n",
              "      <td>0</td>\n",
              "      <td>1</td>\n",
              "      <td>0</td>\n",
              "    </tr>\n",
              "    <tr>\n",
              "      <th>4570525</th>\n",
              "      <td>40.743910</td>\n",
              "      <td>-73.916652</td>\n",
              "      <td>2</td>\n",
              "      <td>2018</td>\n",
              "      <td>9</td>\n",
              "      <td>21</td>\n",
              "      <td>12</td>\n",
              "      <td>0</td>\n",
              "      <td>0</td>\n",
              "      <td>1</td>\n",
              "      <td>0</td>\n",
              "      <td>0</td>\n",
              "      <td>0</td>\n",
              "      <td>1</td>\n",
              "      <td>0</td>\n",
              "    </tr>\n",
              "    <tr>\n",
              "      <th>4570528</th>\n",
              "      <td>40.736092</td>\n",
              "      <td>-73.985149</td>\n",
              "      <td>2</td>\n",
              "      <td>2018</td>\n",
              "      <td>2</td>\n",
              "      <td>25</td>\n",
              "      <td>6</td>\n",
              "      <td>0</td>\n",
              "      <td>0</td>\n",
              "      <td>1</td>\n",
              "      <td>0</td>\n",
              "      <td>0</td>\n",
              "      <td>0</td>\n",
              "      <td>0</td>\n",
              "      <td>1</td>\n",
              "    </tr>\n",
              "    <tr>\n",
              "      <th>4570533</th>\n",
              "      <td>40.727503</td>\n",
              "      <td>-73.807936</td>\n",
              "      <td>2</td>\n",
              "      <td>2018</td>\n",
              "      <td>9</td>\n",
              "      <td>15</td>\n",
              "      <td>15</td>\n",
              "      <td>0</td>\n",
              "      <td>0</td>\n",
              "      <td>1</td>\n",
              "      <td>0</td>\n",
              "      <td>0</td>\n",
              "      <td>0</td>\n",
              "      <td>0</td>\n",
              "      <td>1</td>\n",
              "    </tr>\n",
              "  </tbody>\n",
              "</table>\n",
              "<p>269794 rows × 15 columns</p>\n",
              "</div>\n",
              "      <button class=\"colab-df-convert\" onclick=\"convertToInteractive('df-2103f25c-4f21-43f1-a463-2c242f23ddb7')\"\n",
              "              title=\"Convert this dataframe to an interactive table.\"\n",
              "              style=\"display:none;\">\n",
              "        \n",
              "  <svg xmlns=\"http://www.w3.org/2000/svg\" height=\"24px\"viewBox=\"0 0 24 24\"\n",
              "       width=\"24px\">\n",
              "    <path d=\"M0 0h24v24H0V0z\" fill=\"none\"/>\n",
              "    <path d=\"M18.56 5.44l.94 2.06.94-2.06 2.06-.94-2.06-.94-.94-2.06-.94 2.06-2.06.94zm-11 1L8.5 8.5l.94-2.06 2.06-.94-2.06-.94L8.5 2.5l-.94 2.06-2.06.94zm10 10l.94 2.06.94-2.06 2.06-.94-2.06-.94-.94-2.06-.94 2.06-2.06.94z\"/><path d=\"M17.41 7.96l-1.37-1.37c-.4-.4-.92-.59-1.43-.59-.52 0-1.04.2-1.43.59L10.3 9.45l-7.72 7.72c-.78.78-.78 2.05 0 2.83L4 21.41c.39.39.9.59 1.41.59.51 0 1.02-.2 1.41-.59l7.78-7.78 2.81-2.81c.8-.78.8-2.07 0-2.86zM5.41 20L4 18.59l7.72-7.72 1.47 1.35L5.41 20z\"/>\n",
              "  </svg>\n",
              "      </button>\n",
              "      \n",
              "  <style>\n",
              "    .colab-df-container {\n",
              "      display:flex;\n",
              "      flex-wrap:wrap;\n",
              "      gap: 12px;\n",
              "    }\n",
              "\n",
              "    .colab-df-convert {\n",
              "      background-color: #E8F0FE;\n",
              "      border: none;\n",
              "      border-radius: 50%;\n",
              "      cursor: pointer;\n",
              "      display: none;\n",
              "      fill: #1967D2;\n",
              "      height: 32px;\n",
              "      padding: 0 0 0 0;\n",
              "      width: 32px;\n",
              "    }\n",
              "\n",
              "    .colab-df-convert:hover {\n",
              "      background-color: #E2EBFA;\n",
              "      box-shadow: 0px 1px 2px rgba(60, 64, 67, 0.3), 0px 1px 3px 1px rgba(60, 64, 67, 0.15);\n",
              "      fill: #174EA6;\n",
              "    }\n",
              "\n",
              "    [theme=dark] .colab-df-convert {\n",
              "      background-color: #3B4455;\n",
              "      fill: #D2E3FC;\n",
              "    }\n",
              "\n",
              "    [theme=dark] .colab-df-convert:hover {\n",
              "      background-color: #434B5C;\n",
              "      box-shadow: 0px 1px 3px 1px rgba(0, 0, 0, 0.15);\n",
              "      filter: drop-shadow(0px 1px 2px rgba(0, 0, 0, 0.3));\n",
              "      fill: #FFFFFF;\n",
              "    }\n",
              "  </style>\n",
              "\n",
              "      <script>\n",
              "        const buttonEl =\n",
              "          document.querySelector('#df-2103f25c-4f21-43f1-a463-2c242f23ddb7 button.colab-df-convert');\n",
              "        buttonEl.style.display =\n",
              "          google.colab.kernel.accessAllowed ? 'block' : 'none';\n",
              "\n",
              "        async function convertToInteractive(key) {\n",
              "          const element = document.querySelector('#df-2103f25c-4f21-43f1-a463-2c242f23ddb7');\n",
              "          const dataTable =\n",
              "            await google.colab.kernel.invokeFunction('convertToInteractive',\n",
              "                                                     [key], {});\n",
              "          if (!dataTable) return;\n",
              "\n",
              "          const docLinkHtml = 'Like what you see? Visit the ' +\n",
              "            '<a target=\"_blank\" href=https://colab.research.google.com/notebooks/data_table.ipynb>data table notebook</a>'\n",
              "            + ' to learn more about interactive tables.';\n",
              "          element.innerHTML = '';\n",
              "          dataTable['output_type'] = 'display_data';\n",
              "          await google.colab.output.renderOutput(dataTable, element);\n",
              "          const docLink = document.createElement('div');\n",
              "          docLink.innerHTML = docLinkHtml;\n",
              "          element.appendChild(docLink);\n",
              "        }\n",
              "      </script>\n",
              "    </div>\n",
              "  </div>\n",
              "  "
            ]
          },
          "metadata": {},
          "execution_count": 63
        }
      ],
      "source": [
        "dum_df"
      ]
    },
    {
      "cell_type": "code",
      "execution_count": 64,
      "metadata": {
        "colab": {
          "base_uri": "https://localhost:8080/"
        },
        "id": "nRIKkZMmmWKk",
        "outputId": "85c51cb5-31eb-4f28-8180-df2795fc5379"
      },
      "outputs": [
        {
          "output_type": "execute_result",
          "data": {
            "text/plain": [
              "Index(['Latitude', 'Longitude', 'VIC_AGE_GROUP', 'CMPLNT_FR_YEAR',\n",
              "       'CMPLNT_FR_MONTH', 'CMPLNT_FR_DAY', 'CMPLNT_FR_HOUR', 'KY_CD_drugs',\n",
              "       'KY_CD_killing crimes', 'KY_CD_other', 'KY_CD_other types of violent',\n",
              "       'KY_CD_sexual crimes', 'KY_CD_thift', 'VIC_SEX_F', 'VIC_SEX_M'],\n",
              "      dtype='object')"
            ]
          },
          "metadata": {},
          "execution_count": 64
        }
      ],
      "source": [
        "dum_df.columns"
      ]
    },
    {
      "cell_type": "code",
      "execution_count": 65,
      "metadata": {
        "id": "axdEJ624mWKk"
      },
      "outputs": [],
      "source": [
        "df2=dum_df.copy()"
      ]
    },
    {
      "cell_type": "code",
      "execution_count": 66,
      "metadata": {
        "colab": {
          "base_uri": "https://localhost:8080/",
          "height": 305
        },
        "id": "Z5se3T0UmWKk",
        "outputId": "54397bd1-9900-4a69-a2bf-bdecdd118c0e"
      },
      "outputs": [
        {
          "output_type": "execute_result",
          "data": {
            "text/plain": [
              "        Latitude  Longitude  VIC_AGE_GROUP  CMPLNT_FR_YEAR  CMPLNT_FR_MONTH  \\\n",
              "9244   40.705543 -73.942910              2            2018               10   \n",
              "10423  40.890181 -73.857472              2            2018                1   \n",
              "14106  40.887451 -73.847608              2            2018                7   \n",
              "14799  40.648650 -73.950336              2            2018               11   \n",
              "17633  40.768524 -73.987138              2            2018                2   \n",
              "\n",
              "       CMPLNT_FR_DAY  CMPLNT_FR_HOUR  KY_CD_drugs  KY_CD_killing crimes  \\\n",
              "9244              31              21            0                     0   \n",
              "10423              1               6            0                     0   \n",
              "14106             10               0            0                     0   \n",
              "14799             29               0            0                     0   \n",
              "17633             21              13            0                     0   \n",
              "\n",
              "       KY_CD_other  KY_CD_other types of violent  KY_CD_sexual crimes  \\\n",
              "9244             0                             1                    0   \n",
              "10423            1                             0                    0   \n",
              "14106            0                             0                    1   \n",
              "14799            0                             0                    1   \n",
              "17633            1                             0                    0   \n",
              "\n",
              "       KY_CD_thift  VIC_SEX_F  VIC_SEX_M  \n",
              "9244             0          0          1  \n",
              "10423            0          0          1  \n",
              "14106            0          1          0  \n",
              "14799            0          1          0  \n",
              "17633            0          0          1  "
            ],
            "text/html": [
              "\n",
              "  <div id=\"df-98aca37f-72e8-4e95-a698-8446a563f0d2\">\n",
              "    <div class=\"colab-df-container\">\n",
              "      <div>\n",
              "<style scoped>\n",
              "    .dataframe tbody tr th:only-of-type {\n",
              "        vertical-align: middle;\n",
              "    }\n",
              "\n",
              "    .dataframe tbody tr th {\n",
              "        vertical-align: top;\n",
              "    }\n",
              "\n",
              "    .dataframe thead th {\n",
              "        text-align: right;\n",
              "    }\n",
              "</style>\n",
              "<table border=\"1\" class=\"dataframe\">\n",
              "  <thead>\n",
              "    <tr style=\"text-align: right;\">\n",
              "      <th></th>\n",
              "      <th>Latitude</th>\n",
              "      <th>Longitude</th>\n",
              "      <th>VIC_AGE_GROUP</th>\n",
              "      <th>CMPLNT_FR_YEAR</th>\n",
              "      <th>CMPLNT_FR_MONTH</th>\n",
              "      <th>CMPLNT_FR_DAY</th>\n",
              "      <th>CMPLNT_FR_HOUR</th>\n",
              "      <th>KY_CD_drugs</th>\n",
              "      <th>KY_CD_killing crimes</th>\n",
              "      <th>KY_CD_other</th>\n",
              "      <th>KY_CD_other types of violent</th>\n",
              "      <th>KY_CD_sexual crimes</th>\n",
              "      <th>KY_CD_thift</th>\n",
              "      <th>VIC_SEX_F</th>\n",
              "      <th>VIC_SEX_M</th>\n",
              "    </tr>\n",
              "  </thead>\n",
              "  <tbody>\n",
              "    <tr>\n",
              "      <th>9244</th>\n",
              "      <td>40.705543</td>\n",
              "      <td>-73.942910</td>\n",
              "      <td>2</td>\n",
              "      <td>2018</td>\n",
              "      <td>10</td>\n",
              "      <td>31</td>\n",
              "      <td>21</td>\n",
              "      <td>0</td>\n",
              "      <td>0</td>\n",
              "      <td>0</td>\n",
              "      <td>1</td>\n",
              "      <td>0</td>\n",
              "      <td>0</td>\n",
              "      <td>0</td>\n",
              "      <td>1</td>\n",
              "    </tr>\n",
              "    <tr>\n",
              "      <th>10423</th>\n",
              "      <td>40.890181</td>\n",
              "      <td>-73.857472</td>\n",
              "      <td>2</td>\n",
              "      <td>2018</td>\n",
              "      <td>1</td>\n",
              "      <td>1</td>\n",
              "      <td>6</td>\n",
              "      <td>0</td>\n",
              "      <td>0</td>\n",
              "      <td>1</td>\n",
              "      <td>0</td>\n",
              "      <td>0</td>\n",
              "      <td>0</td>\n",
              "      <td>0</td>\n",
              "      <td>1</td>\n",
              "    </tr>\n",
              "    <tr>\n",
              "      <th>14106</th>\n",
              "      <td>40.887451</td>\n",
              "      <td>-73.847608</td>\n",
              "      <td>2</td>\n",
              "      <td>2018</td>\n",
              "      <td>7</td>\n",
              "      <td>10</td>\n",
              "      <td>0</td>\n",
              "      <td>0</td>\n",
              "      <td>0</td>\n",
              "      <td>0</td>\n",
              "      <td>0</td>\n",
              "      <td>1</td>\n",
              "      <td>0</td>\n",
              "      <td>1</td>\n",
              "      <td>0</td>\n",
              "    </tr>\n",
              "    <tr>\n",
              "      <th>14799</th>\n",
              "      <td>40.648650</td>\n",
              "      <td>-73.950336</td>\n",
              "      <td>2</td>\n",
              "      <td>2018</td>\n",
              "      <td>11</td>\n",
              "      <td>29</td>\n",
              "      <td>0</td>\n",
              "      <td>0</td>\n",
              "      <td>0</td>\n",
              "      <td>0</td>\n",
              "      <td>0</td>\n",
              "      <td>1</td>\n",
              "      <td>0</td>\n",
              "      <td>1</td>\n",
              "      <td>0</td>\n",
              "    </tr>\n",
              "    <tr>\n",
              "      <th>17633</th>\n",
              "      <td>40.768524</td>\n",
              "      <td>-73.987138</td>\n",
              "      <td>2</td>\n",
              "      <td>2018</td>\n",
              "      <td>2</td>\n",
              "      <td>21</td>\n",
              "      <td>13</td>\n",
              "      <td>0</td>\n",
              "      <td>0</td>\n",
              "      <td>1</td>\n",
              "      <td>0</td>\n",
              "      <td>0</td>\n",
              "      <td>0</td>\n",
              "      <td>0</td>\n",
              "      <td>1</td>\n",
              "    </tr>\n",
              "  </tbody>\n",
              "</table>\n",
              "</div>\n",
              "      <button class=\"colab-df-convert\" onclick=\"convertToInteractive('df-98aca37f-72e8-4e95-a698-8446a563f0d2')\"\n",
              "              title=\"Convert this dataframe to an interactive table.\"\n",
              "              style=\"display:none;\">\n",
              "        \n",
              "  <svg xmlns=\"http://www.w3.org/2000/svg\" height=\"24px\"viewBox=\"0 0 24 24\"\n",
              "       width=\"24px\">\n",
              "    <path d=\"M0 0h24v24H0V0z\" fill=\"none\"/>\n",
              "    <path d=\"M18.56 5.44l.94 2.06.94-2.06 2.06-.94-2.06-.94-.94-2.06-.94 2.06-2.06.94zm-11 1L8.5 8.5l.94-2.06 2.06-.94-2.06-.94L8.5 2.5l-.94 2.06-2.06.94zm10 10l.94 2.06.94-2.06 2.06-.94-2.06-.94-.94-2.06-.94 2.06-2.06.94z\"/><path d=\"M17.41 7.96l-1.37-1.37c-.4-.4-.92-.59-1.43-.59-.52 0-1.04.2-1.43.59L10.3 9.45l-7.72 7.72c-.78.78-.78 2.05 0 2.83L4 21.41c.39.39.9.59 1.41.59.51 0 1.02-.2 1.41-.59l7.78-7.78 2.81-2.81c.8-.78.8-2.07 0-2.86zM5.41 20L4 18.59l7.72-7.72 1.47 1.35L5.41 20z\"/>\n",
              "  </svg>\n",
              "      </button>\n",
              "      \n",
              "  <style>\n",
              "    .colab-df-container {\n",
              "      display:flex;\n",
              "      flex-wrap:wrap;\n",
              "      gap: 12px;\n",
              "    }\n",
              "\n",
              "    .colab-df-convert {\n",
              "      background-color: #E8F0FE;\n",
              "      border: none;\n",
              "      border-radius: 50%;\n",
              "      cursor: pointer;\n",
              "      display: none;\n",
              "      fill: #1967D2;\n",
              "      height: 32px;\n",
              "      padding: 0 0 0 0;\n",
              "      width: 32px;\n",
              "    }\n",
              "\n",
              "    .colab-df-convert:hover {\n",
              "      background-color: #E2EBFA;\n",
              "      box-shadow: 0px 1px 2px rgba(60, 64, 67, 0.3), 0px 1px 3px 1px rgba(60, 64, 67, 0.15);\n",
              "      fill: #174EA6;\n",
              "    }\n",
              "\n",
              "    [theme=dark] .colab-df-convert {\n",
              "      background-color: #3B4455;\n",
              "      fill: #D2E3FC;\n",
              "    }\n",
              "\n",
              "    [theme=dark] .colab-df-convert:hover {\n",
              "      background-color: #434B5C;\n",
              "      box-shadow: 0px 1px 3px 1px rgba(0, 0, 0, 0.15);\n",
              "      filter: drop-shadow(0px 1px 2px rgba(0, 0, 0, 0.3));\n",
              "      fill: #FFFFFF;\n",
              "    }\n",
              "  </style>\n",
              "\n",
              "      <script>\n",
              "        const buttonEl =\n",
              "          document.querySelector('#df-98aca37f-72e8-4e95-a698-8446a563f0d2 button.colab-df-convert');\n",
              "        buttonEl.style.display =\n",
              "          google.colab.kernel.accessAllowed ? 'block' : 'none';\n",
              "\n",
              "        async function convertToInteractive(key) {\n",
              "          const element = document.querySelector('#df-98aca37f-72e8-4e95-a698-8446a563f0d2');\n",
              "          const dataTable =\n",
              "            await google.colab.kernel.invokeFunction('convertToInteractive',\n",
              "                                                     [key], {});\n",
              "          if (!dataTable) return;\n",
              "\n",
              "          const docLinkHtml = 'Like what you see? Visit the ' +\n",
              "            '<a target=\"_blank\" href=https://colab.research.google.com/notebooks/data_table.ipynb>data table notebook</a>'\n",
              "            + ' to learn more about interactive tables.';\n",
              "          element.innerHTML = '';\n",
              "          dataTable['output_type'] = 'display_data';\n",
              "          await google.colab.output.renderOutput(dataTable, element);\n",
              "          const docLink = document.createElement('div');\n",
              "          docLink.innerHTML = docLinkHtml;\n",
              "          element.appendChild(docLink);\n",
              "        }\n",
              "      </script>\n",
              "    </div>\n",
              "  </div>\n",
              "  "
            ]
          },
          "metadata": {},
          "execution_count": 66
        }
      ],
      "source": [
        "df2.head()"
      ]
    },
    {
      "cell_type": "code",
      "execution_count": 67,
      "metadata": {
        "colab": {
          "base_uri": "https://localhost:8080/"
        },
        "id": "ozRGkQHDmWKl",
        "outputId": "9658255c-bf6d-44f9-9579-446e4293c0cb"
      },
      "outputs": [
        {
          "output_type": "stream",
          "name": "stdout",
          "text": [
            "<class 'pandas.core.frame.DataFrame'>\n",
            "Int64Index: 269794 entries, 9244 to 4570533\n",
            "Data columns (total 15 columns):\n",
            " #   Column                        Non-Null Count   Dtype  \n",
            "---  ------                        --------------   -----  \n",
            " 0   Latitude                      269794 non-null  float64\n",
            " 1   Longitude                     269794 non-null  float64\n",
            " 2   VIC_AGE_GROUP                 269794 non-null  int64  \n",
            " 3   CMPLNT_FR_YEAR                269794 non-null  int64  \n",
            " 4   CMPLNT_FR_MONTH               269794 non-null  int64  \n",
            " 5   CMPLNT_FR_DAY                 269794 non-null  int64  \n",
            " 6   CMPLNT_FR_HOUR                269794 non-null  int64  \n",
            " 7   KY_CD_drugs                   269794 non-null  uint8  \n",
            " 8   KY_CD_killing crimes          269794 non-null  uint8  \n",
            " 9   KY_CD_other                   269794 non-null  uint8  \n",
            " 10  KY_CD_other types of violent  269794 non-null  uint8  \n",
            " 11  KY_CD_sexual crimes           269794 non-null  uint8  \n",
            " 12  KY_CD_thift                   269794 non-null  uint8  \n",
            " 13  VIC_SEX_F                     269794 non-null  uint8  \n",
            " 14  VIC_SEX_M                     269794 non-null  uint8  \n",
            "dtypes: float64(2), int64(5), uint8(8)\n",
            "memory usage: 26.6 MB\n"
          ]
        }
      ],
      "source": [
        "df2.info()"
      ]
    },
    {
      "cell_type": "code",
      "execution_count": 68,
      "metadata": {
        "colab": {
          "base_uri": "https://localhost:8080/"
        },
        "id": "QPP-Va7RmWKl",
        "outputId": "55bf8d1f-ee7f-4b88-821d-1c81d4636cb0"
      },
      "outputs": [
        {
          "output_type": "stream",
          "name": "stdout",
          "text": [
            "X shape: (269794, 9)\n",
            "y shape: (269794, 6)\n"
          ]
        }
      ],
      "source": [
        "# Get the feature vector\n",
        "X = df2.drop(['KY_CD_killing crimes', 'KY_CD_other', 'KY_CD_other types of violent',\n",
        "       'KY_CD_sexual crimes', 'KY_CD_thift','KY_CD_drugs'], axis = 1)\n",
        "\n",
        "# Get the target vector\n",
        "y = df2[['KY_CD_killing crimes', 'KY_CD_other', 'KY_CD_other types of violent',\n",
        "       'KY_CD_sexual crimes', 'KY_CD_thift','KY_CD_drugs']]\n",
        "\n",
        "print('X shape: ' + str(X.shape))\n",
        "print('y shape: ' + str(y.shape))"
      ]
    },
    {
      "cell_type": "code",
      "execution_count": 69,
      "metadata": {
        "id": "uNkBe0xfmWKl"
      },
      "outputs": [],
      "source": [
        "import tensorflow"
      ]
    },
    {
      "cell_type": "code",
      "execution_count": 70,
      "metadata": {
        "id": "L9hIw6rFmWKl"
      },
      "outputs": [],
      "source": [
        "from tensorflow.keras.layers import Dense, Dropout"
      ]
    },
    {
      "cell_type": "code",
      "execution_count": 71,
      "metadata": {
        "id": "6yhQ0uB8mWKl"
      },
      "outputs": [],
      "source": [
        "from tensorflow.keras.preprocessing import sequence"
      ]
    },
    {
      "cell_type": "code",
      "execution_count": 72,
      "metadata": {
        "id": "e4r66Df6mWKl"
      },
      "outputs": [],
      "source": [
        "from tensorflow.keras.models import Sequential"
      ]
    },
    {
      "cell_type": "code",
      "execution_count": 73,
      "metadata": {
        "id": "TzU-AAWAmWKl"
      },
      "outputs": [],
      "source": [
        "from tensorflow.keras.layers import Dense, BatchNormalization"
      ]
    },
    {
      "cell_type": "code",
      "execution_count": 74,
      "metadata": {
        "id": "lwKndNdamWKm"
      },
      "outputs": [],
      "source": [
        "LR = 0.0001"
      ]
    },
    {
      "cell_type": "code",
      "source": [
        "from sklearn.model_selection import train_test_split\n",
        "X_train, X_test, y_train, y_test = train_test_split(X, y, test_size=0.2, random_state=42)"
      ],
      "metadata": {
        "id": "xwy4qBS9pZLP"
      },
      "execution_count": 79,
      "outputs": []
    },
    {
      "cell_type": "code",
      "execution_count": 80,
      "metadata": {
        "colab": {
          "base_uri": "https://localhost:8080/"
        },
        "id": "VH-rRZWKmWKm",
        "outputId": "504b9dfb-1c51-4f5d-d975-484715946b0d"
      },
      "outputs": [
        {
          "output_type": "execute_result",
          "data": {
            "text/plain": [
              "(215835, 9)"
            ]
          },
          "metadata": {},
          "execution_count": 80
        }
      ],
      "source": [
        "X_train.shape"
      ]
    },
    {
      "cell_type": "code",
      "execution_count": 81,
      "metadata": {
        "colab": {
          "base_uri": "https://localhost:8080/",
          "height": 424
        },
        "id": "IKw8W55hmWKm",
        "outputId": "dc2df9c3-7264-44cd-e667-60a6aaae8b1b"
      },
      "outputs": [
        {
          "output_type": "execute_result",
          "data": {
            "text/plain": [
              "                          KY_CD   Latitude  Longitude VIC_AGE_GROUP VIC_SEX  \\\n",
              "9244     other types of violent  40.705543 -73.942910         25-44       M   \n",
              "10423                     other  40.890181 -73.857472         25-44       M   \n",
              "14106             sexual crimes  40.887451 -73.847608           <18       F   \n",
              "14799             sexual crimes  40.648650 -73.950336           <18       F   \n",
              "17633                     other  40.768524 -73.987138         45-64       M   \n",
              "...                         ...        ...        ...           ...     ...   \n",
              "4570508                   other  40.728448 -73.796781         25-44       F   \n",
              "4570518                   other  40.786459 -73.849572         25-44       F   \n",
              "4570525                   other  40.743910 -73.916652         25-44       F   \n",
              "4570528                   other  40.736092 -73.985149         45-64       M   \n",
              "4570533                   other  40.727503 -73.807936         25-44       M   \n",
              "\n",
              "         CMPLNT_FR_YEAR  CMPLNT_FR_MONTH  CMPLNT_FR_DAY  CMPLNT_FR_HOUR  \n",
              "9244               2018               10             31              21  \n",
              "10423              2018                1              1               6  \n",
              "14106              2018                7             10               0  \n",
              "14799              2018               11             29               0  \n",
              "17633              2018                2             21              13  \n",
              "...                 ...              ...            ...             ...  \n",
              "4570508            2018               12             31              21  \n",
              "4570518            2018               12             17              20  \n",
              "4570525            2018                9             21              12  \n",
              "4570528            2018                2             25               6  \n",
              "4570533            2018                9             15              15  \n",
              "\n",
              "[269794 rows x 9 columns]"
            ],
            "text/html": [
              "\n",
              "  <div id=\"df-87909472-52f8-426f-af8c-9facdfc0b5c2\">\n",
              "    <div class=\"colab-df-container\">\n",
              "      <div>\n",
              "<style scoped>\n",
              "    .dataframe tbody tr th:only-of-type {\n",
              "        vertical-align: middle;\n",
              "    }\n",
              "\n",
              "    .dataframe tbody tr th {\n",
              "        vertical-align: top;\n",
              "    }\n",
              "\n",
              "    .dataframe thead th {\n",
              "        text-align: right;\n",
              "    }\n",
              "</style>\n",
              "<table border=\"1\" class=\"dataframe\">\n",
              "  <thead>\n",
              "    <tr style=\"text-align: right;\">\n",
              "      <th></th>\n",
              "      <th>KY_CD</th>\n",
              "      <th>Latitude</th>\n",
              "      <th>Longitude</th>\n",
              "      <th>VIC_AGE_GROUP</th>\n",
              "      <th>VIC_SEX</th>\n",
              "      <th>CMPLNT_FR_YEAR</th>\n",
              "      <th>CMPLNT_FR_MONTH</th>\n",
              "      <th>CMPLNT_FR_DAY</th>\n",
              "      <th>CMPLNT_FR_HOUR</th>\n",
              "    </tr>\n",
              "  </thead>\n",
              "  <tbody>\n",
              "    <tr>\n",
              "      <th>9244</th>\n",
              "      <td>other types of violent</td>\n",
              "      <td>40.705543</td>\n",
              "      <td>-73.942910</td>\n",
              "      <td>25-44</td>\n",
              "      <td>M</td>\n",
              "      <td>2018</td>\n",
              "      <td>10</td>\n",
              "      <td>31</td>\n",
              "      <td>21</td>\n",
              "    </tr>\n",
              "    <tr>\n",
              "      <th>10423</th>\n",
              "      <td>other</td>\n",
              "      <td>40.890181</td>\n",
              "      <td>-73.857472</td>\n",
              "      <td>25-44</td>\n",
              "      <td>M</td>\n",
              "      <td>2018</td>\n",
              "      <td>1</td>\n",
              "      <td>1</td>\n",
              "      <td>6</td>\n",
              "    </tr>\n",
              "    <tr>\n",
              "      <th>14106</th>\n",
              "      <td>sexual crimes</td>\n",
              "      <td>40.887451</td>\n",
              "      <td>-73.847608</td>\n",
              "      <td>&lt;18</td>\n",
              "      <td>F</td>\n",
              "      <td>2018</td>\n",
              "      <td>7</td>\n",
              "      <td>10</td>\n",
              "      <td>0</td>\n",
              "    </tr>\n",
              "    <tr>\n",
              "      <th>14799</th>\n",
              "      <td>sexual crimes</td>\n",
              "      <td>40.648650</td>\n",
              "      <td>-73.950336</td>\n",
              "      <td>&lt;18</td>\n",
              "      <td>F</td>\n",
              "      <td>2018</td>\n",
              "      <td>11</td>\n",
              "      <td>29</td>\n",
              "      <td>0</td>\n",
              "    </tr>\n",
              "    <tr>\n",
              "      <th>17633</th>\n",
              "      <td>other</td>\n",
              "      <td>40.768524</td>\n",
              "      <td>-73.987138</td>\n",
              "      <td>45-64</td>\n",
              "      <td>M</td>\n",
              "      <td>2018</td>\n",
              "      <td>2</td>\n",
              "      <td>21</td>\n",
              "      <td>13</td>\n",
              "    </tr>\n",
              "    <tr>\n",
              "      <th>...</th>\n",
              "      <td>...</td>\n",
              "      <td>...</td>\n",
              "      <td>...</td>\n",
              "      <td>...</td>\n",
              "      <td>...</td>\n",
              "      <td>...</td>\n",
              "      <td>...</td>\n",
              "      <td>...</td>\n",
              "      <td>...</td>\n",
              "    </tr>\n",
              "    <tr>\n",
              "      <th>4570508</th>\n",
              "      <td>other</td>\n",
              "      <td>40.728448</td>\n",
              "      <td>-73.796781</td>\n",
              "      <td>25-44</td>\n",
              "      <td>F</td>\n",
              "      <td>2018</td>\n",
              "      <td>12</td>\n",
              "      <td>31</td>\n",
              "      <td>21</td>\n",
              "    </tr>\n",
              "    <tr>\n",
              "      <th>4570518</th>\n",
              "      <td>other</td>\n",
              "      <td>40.786459</td>\n",
              "      <td>-73.849572</td>\n",
              "      <td>25-44</td>\n",
              "      <td>F</td>\n",
              "      <td>2018</td>\n",
              "      <td>12</td>\n",
              "      <td>17</td>\n",
              "      <td>20</td>\n",
              "    </tr>\n",
              "    <tr>\n",
              "      <th>4570525</th>\n",
              "      <td>other</td>\n",
              "      <td>40.743910</td>\n",
              "      <td>-73.916652</td>\n",
              "      <td>25-44</td>\n",
              "      <td>F</td>\n",
              "      <td>2018</td>\n",
              "      <td>9</td>\n",
              "      <td>21</td>\n",
              "      <td>12</td>\n",
              "    </tr>\n",
              "    <tr>\n",
              "      <th>4570528</th>\n",
              "      <td>other</td>\n",
              "      <td>40.736092</td>\n",
              "      <td>-73.985149</td>\n",
              "      <td>45-64</td>\n",
              "      <td>M</td>\n",
              "      <td>2018</td>\n",
              "      <td>2</td>\n",
              "      <td>25</td>\n",
              "      <td>6</td>\n",
              "    </tr>\n",
              "    <tr>\n",
              "      <th>4570533</th>\n",
              "      <td>other</td>\n",
              "      <td>40.727503</td>\n",
              "      <td>-73.807936</td>\n",
              "      <td>25-44</td>\n",
              "      <td>M</td>\n",
              "      <td>2018</td>\n",
              "      <td>9</td>\n",
              "      <td>15</td>\n",
              "      <td>15</td>\n",
              "    </tr>\n",
              "  </tbody>\n",
              "</table>\n",
              "<p>269794 rows × 9 columns</p>\n",
              "</div>\n",
              "      <button class=\"colab-df-convert\" onclick=\"convertToInteractive('df-87909472-52f8-426f-af8c-9facdfc0b5c2')\"\n",
              "              title=\"Convert this dataframe to an interactive table.\"\n",
              "              style=\"display:none;\">\n",
              "        \n",
              "  <svg xmlns=\"http://www.w3.org/2000/svg\" height=\"24px\"viewBox=\"0 0 24 24\"\n",
              "       width=\"24px\">\n",
              "    <path d=\"M0 0h24v24H0V0z\" fill=\"none\"/>\n",
              "    <path d=\"M18.56 5.44l.94 2.06.94-2.06 2.06-.94-2.06-.94-.94-2.06-.94 2.06-2.06.94zm-11 1L8.5 8.5l.94-2.06 2.06-.94-2.06-.94L8.5 2.5l-.94 2.06-2.06.94zm10 10l.94 2.06.94-2.06 2.06-.94-2.06-.94-.94-2.06-.94 2.06-2.06.94z\"/><path d=\"M17.41 7.96l-1.37-1.37c-.4-.4-.92-.59-1.43-.59-.52 0-1.04.2-1.43.59L10.3 9.45l-7.72 7.72c-.78.78-.78 2.05 0 2.83L4 21.41c.39.39.9.59 1.41.59.51 0 1.02-.2 1.41-.59l7.78-7.78 2.81-2.81c.8-.78.8-2.07 0-2.86zM5.41 20L4 18.59l7.72-7.72 1.47 1.35L5.41 20z\"/>\n",
              "  </svg>\n",
              "      </button>\n",
              "      \n",
              "  <style>\n",
              "    .colab-df-container {\n",
              "      display:flex;\n",
              "      flex-wrap:wrap;\n",
              "      gap: 12px;\n",
              "    }\n",
              "\n",
              "    .colab-df-convert {\n",
              "      background-color: #E8F0FE;\n",
              "      border: none;\n",
              "      border-radius: 50%;\n",
              "      cursor: pointer;\n",
              "      display: none;\n",
              "      fill: #1967D2;\n",
              "      height: 32px;\n",
              "      padding: 0 0 0 0;\n",
              "      width: 32px;\n",
              "    }\n",
              "\n",
              "    .colab-df-convert:hover {\n",
              "      background-color: #E2EBFA;\n",
              "      box-shadow: 0px 1px 2px rgba(60, 64, 67, 0.3), 0px 1px 3px 1px rgba(60, 64, 67, 0.15);\n",
              "      fill: #174EA6;\n",
              "    }\n",
              "\n",
              "    [theme=dark] .colab-df-convert {\n",
              "      background-color: #3B4455;\n",
              "      fill: #D2E3FC;\n",
              "    }\n",
              "\n",
              "    [theme=dark] .colab-df-convert:hover {\n",
              "      background-color: #434B5C;\n",
              "      box-shadow: 0px 1px 3px 1px rgba(0, 0, 0, 0.15);\n",
              "      filter: drop-shadow(0px 1px 2px rgba(0, 0, 0, 0.3));\n",
              "      fill: #FFFFFF;\n",
              "    }\n",
              "  </style>\n",
              "\n",
              "      <script>\n",
              "        const buttonEl =\n",
              "          document.querySelector('#df-87909472-52f8-426f-af8c-9facdfc0b5c2 button.colab-df-convert');\n",
              "        buttonEl.style.display =\n",
              "          google.colab.kernel.accessAllowed ? 'block' : 'none';\n",
              "\n",
              "        async function convertToInteractive(key) {\n",
              "          const element = document.querySelector('#df-87909472-52f8-426f-af8c-9facdfc0b5c2');\n",
              "          const dataTable =\n",
              "            await google.colab.kernel.invokeFunction('convertToInteractive',\n",
              "                                                     [key], {});\n",
              "          if (!dataTable) return;\n",
              "\n",
              "          const docLinkHtml = 'Like what you see? Visit the ' +\n",
              "            '<a target=\"_blank\" href=https://colab.research.google.com/notebooks/data_table.ipynb>data table notebook</a>'\n",
              "            + ' to learn more about interactive tables.';\n",
              "          element.innerHTML = '';\n",
              "          dataTable['output_type'] = 'display_data';\n",
              "          await google.colab.output.renderOutput(dataTable, element);\n",
              "          const docLink = document.createElement('div');\n",
              "          docLink.innerHTML = docLinkHtml;\n",
              "          element.appendChild(docLink);\n",
              "        }\n",
              "      </script>\n",
              "    </div>\n",
              "  </div>\n",
              "  "
            ]
          },
          "metadata": {},
          "execution_count": 81
        }
      ],
      "source": [
        "df"
      ]
    },
    {
      "cell_type": "code",
      "execution_count": 84,
      "metadata": {
        "colab": {
          "base_uri": "https://localhost:8080/"
        },
        "id": "19dZWvrjmWKm",
        "outputId": "305880f2-aa50-4a00-9bd8-5a201bb531fd"
      },
      "outputs": [
        {
          "output_type": "stream",
          "name": "stdout",
          "text": [
            "Epoch 1/50\n",
            "844/844 [==============================] - 3s 3ms/step - loss: 3.0979 - accuracy: 0.4241\n",
            "Epoch 2/50\n",
            "844/844 [==============================] - 3s 3ms/step - loss: 1.1891 - accuracy: 0.4729\n",
            "Epoch 3/50\n",
            "844/844 [==============================] - 3s 3ms/step - loss: 1.1371 - accuracy: 0.4861\n",
            "Epoch 4/50\n",
            "844/844 [==============================] - 3s 3ms/step - loss: 1.1215 - accuracy: 0.4987\n",
            "Epoch 5/50\n",
            "844/844 [==============================] - 3s 3ms/step - loss: 1.1073 - accuracy: 0.5083\n",
            "Epoch 6/50\n",
            "844/844 [==============================] - 3s 3ms/step - loss: 1.1020 - accuracy: 0.5082\n",
            "Epoch 7/50\n",
            "844/844 [==============================] - 3s 3ms/step - loss: 1.0988 - accuracy: 0.5081\n",
            "Epoch 8/50\n",
            "844/844 [==============================] - 3s 3ms/step - loss: 1.0982 - accuracy: 0.5071\n",
            "Epoch 9/50\n",
            "844/844 [==============================] - 3s 3ms/step - loss: 1.0961 - accuracy: 0.5065\n",
            "Epoch 10/50\n",
            "844/844 [==============================] - 3s 3ms/step - loss: 1.0941 - accuracy: 0.5074\n",
            "Epoch 11/50\n",
            "844/844 [==============================] - 3s 3ms/step - loss: 1.0931 - accuracy: 0.5083\n",
            "Epoch 12/50\n",
            "844/844 [==============================] - 3s 4ms/step - loss: 1.0944 - accuracy: 0.5073\n",
            "Epoch 13/50\n",
            "844/844 [==============================] - 3s 4ms/step - loss: 1.0923 - accuracy: 0.5082\n",
            "Epoch 14/50\n",
            "844/844 [==============================] - 3s 3ms/step - loss: 1.0910 - accuracy: 0.5083\n",
            "Epoch 15/50\n",
            "844/844 [==============================] - 3s 3ms/step - loss: 1.0910 - accuracy: 0.5075\n",
            "Epoch 16/50\n",
            "844/844 [==============================] - 3s 3ms/step - loss: 1.0922 - accuracy: 0.5085\n",
            "Epoch 17/50\n",
            "844/844 [==============================] - 3s 3ms/step - loss: 1.0923 - accuracy: 0.5081\n",
            "Epoch 18/50\n",
            "844/844 [==============================] - 3s 3ms/step - loss: 1.0930 - accuracy: 0.5088\n",
            "Epoch 19/50\n",
            "844/844 [==============================] - 3s 3ms/step - loss: 1.0894 - accuracy: 0.5091\n",
            "Epoch 20/50\n",
            "844/844 [==============================] - 3s 3ms/step - loss: 1.0888 - accuracy: 0.5090\n",
            "Epoch 21/50\n",
            "844/844 [==============================] - 3s 3ms/step - loss: 1.0885 - accuracy: 0.5091\n",
            "Epoch 22/50\n",
            "844/844 [==============================] - 3s 3ms/step - loss: 1.0860 - accuracy: 0.5144\n",
            "Epoch 23/50\n",
            "844/844 [==============================] - 3s 3ms/step - loss: 1.0843 - accuracy: 0.5171\n",
            "Epoch 24/50\n",
            "844/844 [==============================] - 3s 3ms/step - loss: 1.0829 - accuracy: 0.5179\n",
            "Epoch 25/50\n",
            "844/844 [==============================] - 3s 4ms/step - loss: 1.0820 - accuracy: 0.5185\n",
            "Epoch 26/50\n",
            "844/844 [==============================] - 4s 4ms/step - loss: 1.0814 - accuracy: 0.5184\n",
            "Epoch 27/50\n",
            "844/844 [==============================] - 3s 3ms/step - loss: 1.0808 - accuracy: 0.5181\n",
            "Epoch 28/50\n",
            "844/844 [==============================] - 3s 3ms/step - loss: 1.0811 - accuracy: 0.5184\n",
            "Epoch 29/50\n",
            "844/844 [==============================] - 3s 3ms/step - loss: 1.0809 - accuracy: 0.5186\n",
            "Epoch 30/50\n",
            "844/844 [==============================] - 3s 3ms/step - loss: 1.0805 - accuracy: 0.5196\n",
            "Epoch 31/50\n",
            "844/844 [==============================] - 3s 3ms/step - loss: 1.0805 - accuracy: 0.5190\n",
            "Epoch 32/50\n",
            "844/844 [==============================] - 4s 5ms/step - loss: 1.0801 - accuracy: 0.5190\n",
            "Epoch 33/50\n",
            "844/844 [==============================] - 3s 3ms/step - loss: 1.0804 - accuracy: 0.5193\n",
            "Epoch 34/50\n",
            "844/844 [==============================] - 3s 3ms/step - loss: 1.0804 - accuracy: 0.5196\n",
            "Epoch 35/50\n",
            "844/844 [==============================] - 3s 3ms/step - loss: 1.0821 - accuracy: 0.5186\n",
            "Epoch 36/50\n",
            "844/844 [==============================] - 3s 3ms/step - loss: 1.0834 - accuracy: 0.5188\n",
            "Epoch 37/50\n",
            "844/844 [==============================] - 3s 3ms/step - loss: 1.0815 - accuracy: 0.5192\n",
            "Epoch 38/50\n",
            "844/844 [==============================] - 3s 3ms/step - loss: 1.0805 - accuracy: 0.5195\n",
            "Epoch 39/50\n",
            "844/844 [==============================] - 3s 3ms/step - loss: 1.0804 - accuracy: 0.5195\n",
            "Epoch 40/50\n",
            "844/844 [==============================] - 3s 3ms/step - loss: 1.0801 - accuracy: 0.5198\n",
            "Epoch 41/50\n",
            "844/844 [==============================] - 3s 3ms/step - loss: 1.0801 - accuracy: 0.5196\n",
            "Epoch 42/50\n",
            "844/844 [==============================] - 3s 3ms/step - loss: 1.0803 - accuracy: 0.5196\n",
            "Epoch 43/50\n",
            "844/844 [==============================] - 3s 3ms/step - loss: 1.0799 - accuracy: 0.5190\n",
            "Epoch 44/50\n",
            "844/844 [==============================] - 3s 3ms/step - loss: 1.0803 - accuracy: 0.5195\n",
            "Epoch 45/50\n",
            "844/844 [==============================] - 3s 3ms/step - loss: 1.0806 - accuracy: 0.5193\n",
            "Epoch 46/50\n",
            "844/844 [==============================] - 3s 4ms/step - loss: 1.0799 - accuracy: 0.5199\n",
            "Epoch 47/50\n",
            "844/844 [==============================] - 3s 4ms/step - loss: 1.0800 - accuracy: 0.5192\n",
            "Epoch 48/50\n",
            "844/844 [==============================] - 3s 3ms/step - loss: 1.0797 - accuracy: 0.5193\n",
            "Epoch 49/50\n",
            "844/844 [==============================] - 3s 3ms/step - loss: 1.0799 - accuracy: 0.5190\n",
            "Epoch 50/50\n",
            "844/844 [==============================] - 3s 3ms/step - loss: 1.0796 - accuracy: 0.5194\n"
          ]
        },
        {
          "output_type": "execute_result",
          "data": {
            "text/plain": [
              "<keras.callbacks.History at 0x7fa52d6f3b20>"
            ]
          },
          "metadata": {},
          "execution_count": 84
        }
      ],
      "source": [
        "# Create model\n",
        "model = Sequential()\n",
        "model.add(Dense(500, input_dim=9, activation='relu'))\n",
        "model.add(Dense(500, activation='relu'))\n",
        "model.add(Dense(200, activation='relu'))\n",
        "#model.add(Dense(128, activation='relu'))\n",
        "#model.add(Dense(64, activation='relu'))\n",
        "model.add(Dense(64, activation='relu'))\n",
        "model.add(Dense(6, activation='softmax'))\n",
        "\n",
        "# Compile model\n",
        "model.compile(loss='categorical_crossentropy', optimizer='adam', metrics=['accuracy'])\n",
        "\n",
        "# Fit model to training data\n",
        "model.fit(X_train, y_train, epochs=50, batch_size=256)"
      ]
    },
    {
      "cell_type": "code",
      "execution_count": 85,
      "metadata": {
        "colab": {
          "base_uri": "https://localhost:8080/"
        },
        "id": "bVIe2JpBmWKm",
        "outputId": "62bfb2b7-b647-403d-e37d-4abeca8e782b"
      },
      "outputs": [
        {
          "output_type": "stream",
          "name": "stdout",
          "text": [
            "Model: \"sequential_3\"\n",
            "_________________________________________________________________\n",
            " Layer (type)                Output Shape              Param #   \n",
            "=================================================================\n",
            " dense_15 (Dense)            (None, 500)               5000      \n",
            "                                                                 \n",
            " dense_16 (Dense)            (None, 500)               250500    \n",
            "                                                                 \n",
            " dense_17 (Dense)            (None, 200)               100200    \n",
            "                                                                 \n",
            " dense_18 (Dense)            (None, 64)                12864     \n",
            "                                                                 \n",
            " dense_19 (Dense)            (None, 6)                 390       \n",
            "                                                                 \n",
            "=================================================================\n",
            "Total params: 368,954\n",
            "Trainable params: 368,954\n",
            "Non-trainable params: 0\n",
            "_________________________________________________________________\n"
          ]
        }
      ],
      "source": [
        "model.summary()"
      ]
    },
    {
      "cell_type": "code",
      "execution_count": 87,
      "metadata": {
        "colab": {
          "base_uri": "https://localhost:8080/"
        },
        "id": "OBdxAMoEmWKn",
        "outputId": "9c28a89e-6834-4ce3-dc08-a483c595858a"
      },
      "outputs": [
        {
          "output_type": "stream",
          "name": "stdout",
          "text": [
            "1687/1687 [==============================] - 4s 3ms/step - loss: 1.0790 - accuracy: 0.5175\n",
            "\n",
            "accuracy: 51.74669623374939%\n"
          ]
        }
      ],
      "source": [
        "# Evaluate model on test data\n",
        "scores = model.evaluate(X_test, y_test)\n",
        "print(\"\\n%s: %.14f%%\" % (model.metrics_names[1], scores[1]*100))"
      ]
    },
    {
      "cell_type": "markdown",
      "metadata": {
        "id": "vHNz52FwmWKn"
      },
      "source": [
        "### Save the model"
      ]
    },
    {
      "cell_type": "code",
      "execution_count": 89,
      "metadata": {
        "id": "XAOuN3d-mWKn"
      },
      "outputs": [],
      "source": [
        "model.save('model2.h5')"
      ]
    }
  ],
  "metadata": {
    "kernelspec": {
      "display_name": "Python 3 (ipykernel)",
      "language": "python",
      "name": "python3"
    },
    "language_info": {
      "codemirror_mode": {
        "name": "ipython",
        "version": 3
      },
      "file_extension": ".py",
      "mimetype": "text/x-python",
      "name": "python",
      "nbconvert_exporter": "python",
      "pygments_lexer": "ipython3",
      "version": "3.8.8"
    },
    "colab": {
      "provenance": []
    },
    "accelerator": "GPU",
    "gpuClass": "standard"
  },
  "nbformat": 4,
  "nbformat_minor": 0
}